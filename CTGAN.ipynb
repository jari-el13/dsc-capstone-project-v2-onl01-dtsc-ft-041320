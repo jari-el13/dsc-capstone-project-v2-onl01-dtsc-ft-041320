{
  "nbformat": 4,
  "nbformat_minor": 0,
  "metadata": {
    "colab": {
      "name": "CTGAN.ipynb",
      "provenance": [],
      "collapsed_sections": [],
      "machine_shape": "hm",
      "authorship_tag": "ABX9TyP4uXiMVYGbmB+ISo8tS503",
      "include_colab_link": true
    },
    "kernelspec": {
      "name": "python3",
      "display_name": "Python 3"
    },
    "accelerator": "GPU"
  },
  "cells": [
    {
      "cell_type": "markdown",
      "metadata": {
        "id": "view-in-github",
        "colab_type": "text"
      },
      "source": [
        "<a href=\"https://colab.research.google.com/github/jari-el13/dsc-capstone-project-v2-onl01-dtsc-ft-041320/blob/master/CTGAN.ipynb\" target=\"_parent\"><img src=\"https://colab.research.google.com/assets/colab-badge.svg\" alt=\"Open In Colab\"/></a>"
      ]
    },
    {
      "cell_type": "code",
      "metadata": {
        "id": "HEub2rqDMpv8",
        "colab_type": "code",
        "colab": {}
      },
      "source": [
        "import pandas as pd\n",
        "import numpy as np"
      ],
      "execution_count": 1,
      "outputs": []
    },
    {
      "cell_type": "code",
      "metadata": {
        "id": "eRF7OM4PK6Jd",
        "colab_type": "code",
        "colab": {
          "base_uri": "https://localhost:8080/",
          "height": 71
        },
        "outputId": "cb777094-443e-46ad-a7ea-053139df9d62"
      },
      "source": [
        "import matplotlib.pyplot as plt\n",
        "%matplotlib inline \n",
        "import seaborn as sns\n",
        "\n",
        "\n",
        "import statsmodels.api as sm\n",
        "import statsmodels.stats as sts\n",
        "import scipy.stats as stats\n",
        "\n",
        "from sklearn.model_selection import train_test_split\n",
        "from sklearn.metrics import accuracy_score, confusion_matrix, classification_report\n",
        "from sklearn.tree import DecisionTreeClassifier\n",
        "from sklearn.ensemble import BaggingClassifier, RandomForestClassifier\n",
        "from sklearn.model_selection import cross_val_score, GridSearchCV\n",
        "\n",
        "\n",
        "pd.set_option('display.max_columns', None)  # Unlimited columns\n",
        "pd.options.mode.use_inf_as_na = True"
      ],
      "execution_count": 62,
      "outputs": [
        {
          "output_type": "stream",
          "text": [
            "/usr/local/lib/python3.6/dist-packages/statsmodels/tools/_testing.py:19: FutureWarning: pandas.util.testing is deprecated. Use the functions in the public API at pandas.testing instead.\n",
            "  import pandas.util.testing as tm\n"
          ],
          "name": "stderr"
        }
      ]
    },
    {
      "cell_type": "code",
      "metadata": {
        "id": "UZQxBrP9K6MH",
        "colab_type": "code",
        "colab": {}
      },
      "source": [
        ""
      ],
      "execution_count": 1,
      "outputs": []
    },
    {
      "cell_type": "code",
      "metadata": {
        "id": "fzq8bZS5K6O-",
        "colab_type": "code",
        "colab": {}
      },
      "source": [
        ""
      ],
      "execution_count": 1,
      "outputs": []
    },
    {
      "cell_type": "code",
      "metadata": {
        "id": "FiTuSzqE-BbN",
        "colab_type": "code",
        "colab": {}
      },
      "source": [
        ""
      ],
      "execution_count": 1,
      "outputs": []
    },
    {
      "cell_type": "markdown",
      "metadata": {
        "id": "8rRi8DayK6vK",
        "colab_type": "text"
      },
      "source": [
        "# Data Cleaning"
      ]
    },
    {
      "cell_type": "code",
      "metadata": {
        "id": "VRP5NgHh3Olu",
        "colab_type": "code",
        "colab": {}
      },
      "source": [
        "train_data = pd.read_csv('Pump_it_Up_Data_Mining_the_Water_Table_-_Training_set_values.csv')\n",
        "test_data = pd.read_csv('Pump_it_Up_Data_Mining_the_Water_Table_-_Test_set_values.csv')\n",
        "train_labels = pd.read_csv('Pump_it_Up_Data_Mining_the_Water_Table_-_Training_set_labels.csv')\n",
        "\n",
        "train = train_data.merge(train_labels, on='id', how='inner')\n",
        "test_data_copy = test_data.copy()"
      ],
      "execution_count": 2,
      "outputs": []
    },
    {
      "cell_type": "code",
      "metadata": {
        "id": "v6oyRzbg3OxR",
        "colab_type": "code",
        "colab": {
          "base_uri": "https://localhost:8080/",
          "height": 833
        },
        "outputId": "e296da2b-d021-495e-e4bc-e5a7d75c5651"
      },
      "source": [
        "train.info()"
      ],
      "execution_count": 3,
      "outputs": [
        {
          "output_type": "stream",
          "text": [
            "<class 'pandas.core.frame.DataFrame'>\n",
            "Int64Index: 59400 entries, 0 to 59399\n",
            "Data columns (total 41 columns):\n",
            " #   Column                 Non-Null Count  Dtype  \n",
            "---  ------                 --------------  -----  \n",
            " 0   id                     59400 non-null  int64  \n",
            " 1   amount_tsh             59400 non-null  float64\n",
            " 2   date_recorded          59400 non-null  object \n",
            " 3   funder                 55765 non-null  object \n",
            " 4   gps_height             59400 non-null  int64  \n",
            " 5   installer              55745 non-null  object \n",
            " 6   longitude              59400 non-null  float64\n",
            " 7   latitude               59400 non-null  float64\n",
            " 8   wpt_name               59400 non-null  object \n",
            " 9   num_private            59400 non-null  int64  \n",
            " 10  basin                  59400 non-null  object \n",
            " 11  subvillage             59029 non-null  object \n",
            " 12  region                 59400 non-null  object \n",
            " 13  region_code            59400 non-null  int64  \n",
            " 14  district_code          59400 non-null  int64  \n",
            " 15  lga                    59400 non-null  object \n",
            " 16  ward                   59400 non-null  object \n",
            " 17  population             59400 non-null  int64  \n",
            " 18  public_meeting         56066 non-null  object \n",
            " 19  recorded_by            59400 non-null  object \n",
            " 20  scheme_management      55523 non-null  object \n",
            " 21  scheme_name            31234 non-null  object \n",
            " 22  permit                 56344 non-null  object \n",
            " 23  construction_year      59400 non-null  int64  \n",
            " 24  extraction_type        59400 non-null  object \n",
            " 25  extraction_type_group  59400 non-null  object \n",
            " 26  extraction_type_class  59400 non-null  object \n",
            " 27  management             59400 non-null  object \n",
            " 28  management_group       59400 non-null  object \n",
            " 29  payment                59400 non-null  object \n",
            " 30  payment_type           59400 non-null  object \n",
            " 31  water_quality          59400 non-null  object \n",
            " 32  quality_group          59400 non-null  object \n",
            " 33  quantity               59400 non-null  object \n",
            " 34  quantity_group         59400 non-null  object \n",
            " 35  source                 59400 non-null  object \n",
            " 36  source_type            59400 non-null  object \n",
            " 37  source_class           59400 non-null  object \n",
            " 38  waterpoint_type        59400 non-null  object \n",
            " 39  waterpoint_type_group  59400 non-null  object \n",
            " 40  status_group           59400 non-null  object \n",
            "dtypes: float64(3), int64(7), object(31)\n",
            "memory usage: 19.0+ MB\n"
          ],
          "name": "stdout"
        }
      ]
    },
    {
      "cell_type": "code",
      "metadata": {
        "id": "1uuSqMfYgQxm",
        "colab_type": "code",
        "colab": {
          "base_uri": "https://localhost:8080/",
          "height": 411
        },
        "outputId": "1354073b-7ae5-414a-874a-2da7da318327"
      },
      "source": [
        "train.head()"
      ],
      "execution_count": 4,
      "outputs": [
        {
          "output_type": "execute_result",
          "data": {
            "text/html": [
              "<div>\n",
              "<style scoped>\n",
              "    .dataframe tbody tr th:only-of-type {\n",
              "        vertical-align: middle;\n",
              "    }\n",
              "\n",
              "    .dataframe tbody tr th {\n",
              "        vertical-align: top;\n",
              "    }\n",
              "\n",
              "    .dataframe thead th {\n",
              "        text-align: right;\n",
              "    }\n",
              "</style>\n",
              "<table border=\"1\" class=\"dataframe\">\n",
              "  <thead>\n",
              "    <tr style=\"text-align: right;\">\n",
              "      <th></th>\n",
              "      <th>id</th>\n",
              "      <th>amount_tsh</th>\n",
              "      <th>date_recorded</th>\n",
              "      <th>funder</th>\n",
              "      <th>gps_height</th>\n",
              "      <th>installer</th>\n",
              "      <th>longitude</th>\n",
              "      <th>latitude</th>\n",
              "      <th>wpt_name</th>\n",
              "      <th>num_private</th>\n",
              "      <th>basin</th>\n",
              "      <th>subvillage</th>\n",
              "      <th>region</th>\n",
              "      <th>region_code</th>\n",
              "      <th>district_code</th>\n",
              "      <th>lga</th>\n",
              "      <th>ward</th>\n",
              "      <th>population</th>\n",
              "      <th>public_meeting</th>\n",
              "      <th>recorded_by</th>\n",
              "      <th>scheme_management</th>\n",
              "      <th>scheme_name</th>\n",
              "      <th>permit</th>\n",
              "      <th>construction_year</th>\n",
              "      <th>extraction_type</th>\n",
              "      <th>extraction_type_group</th>\n",
              "      <th>extraction_type_class</th>\n",
              "      <th>management</th>\n",
              "      <th>management_group</th>\n",
              "      <th>payment</th>\n",
              "      <th>payment_type</th>\n",
              "      <th>water_quality</th>\n",
              "      <th>quality_group</th>\n",
              "      <th>quantity</th>\n",
              "      <th>quantity_group</th>\n",
              "      <th>source</th>\n",
              "      <th>source_type</th>\n",
              "      <th>source_class</th>\n",
              "      <th>waterpoint_type</th>\n",
              "      <th>waterpoint_type_group</th>\n",
              "      <th>status_group</th>\n",
              "    </tr>\n",
              "  </thead>\n",
              "  <tbody>\n",
              "    <tr>\n",
              "      <th>0</th>\n",
              "      <td>69572</td>\n",
              "      <td>6000.0</td>\n",
              "      <td>2011-03-14</td>\n",
              "      <td>Roman</td>\n",
              "      <td>1390</td>\n",
              "      <td>Roman</td>\n",
              "      <td>34.938093</td>\n",
              "      <td>-9.856322</td>\n",
              "      <td>none</td>\n",
              "      <td>0</td>\n",
              "      <td>Lake Nyasa</td>\n",
              "      <td>Mnyusi B</td>\n",
              "      <td>Iringa</td>\n",
              "      <td>11</td>\n",
              "      <td>5</td>\n",
              "      <td>Ludewa</td>\n",
              "      <td>Mundindi</td>\n",
              "      <td>109</td>\n",
              "      <td>True</td>\n",
              "      <td>GeoData Consultants Ltd</td>\n",
              "      <td>VWC</td>\n",
              "      <td>Roman</td>\n",
              "      <td>False</td>\n",
              "      <td>1999</td>\n",
              "      <td>gravity</td>\n",
              "      <td>gravity</td>\n",
              "      <td>gravity</td>\n",
              "      <td>vwc</td>\n",
              "      <td>user-group</td>\n",
              "      <td>pay annually</td>\n",
              "      <td>annually</td>\n",
              "      <td>soft</td>\n",
              "      <td>good</td>\n",
              "      <td>enough</td>\n",
              "      <td>enough</td>\n",
              "      <td>spring</td>\n",
              "      <td>spring</td>\n",
              "      <td>groundwater</td>\n",
              "      <td>communal standpipe</td>\n",
              "      <td>communal standpipe</td>\n",
              "      <td>functional</td>\n",
              "    </tr>\n",
              "    <tr>\n",
              "      <th>1</th>\n",
              "      <td>8776</td>\n",
              "      <td>0.0</td>\n",
              "      <td>2013-03-06</td>\n",
              "      <td>Grumeti</td>\n",
              "      <td>1399</td>\n",
              "      <td>GRUMETI</td>\n",
              "      <td>34.698766</td>\n",
              "      <td>-2.147466</td>\n",
              "      <td>Zahanati</td>\n",
              "      <td>0</td>\n",
              "      <td>Lake Victoria</td>\n",
              "      <td>Nyamara</td>\n",
              "      <td>Mara</td>\n",
              "      <td>20</td>\n",
              "      <td>2</td>\n",
              "      <td>Serengeti</td>\n",
              "      <td>Natta</td>\n",
              "      <td>280</td>\n",
              "      <td>NaN</td>\n",
              "      <td>GeoData Consultants Ltd</td>\n",
              "      <td>Other</td>\n",
              "      <td>NaN</td>\n",
              "      <td>True</td>\n",
              "      <td>2010</td>\n",
              "      <td>gravity</td>\n",
              "      <td>gravity</td>\n",
              "      <td>gravity</td>\n",
              "      <td>wug</td>\n",
              "      <td>user-group</td>\n",
              "      <td>never pay</td>\n",
              "      <td>never pay</td>\n",
              "      <td>soft</td>\n",
              "      <td>good</td>\n",
              "      <td>insufficient</td>\n",
              "      <td>insufficient</td>\n",
              "      <td>rainwater harvesting</td>\n",
              "      <td>rainwater harvesting</td>\n",
              "      <td>surface</td>\n",
              "      <td>communal standpipe</td>\n",
              "      <td>communal standpipe</td>\n",
              "      <td>functional</td>\n",
              "    </tr>\n",
              "    <tr>\n",
              "      <th>2</th>\n",
              "      <td>34310</td>\n",
              "      <td>25.0</td>\n",
              "      <td>2013-02-25</td>\n",
              "      <td>Lottery Club</td>\n",
              "      <td>686</td>\n",
              "      <td>World vision</td>\n",
              "      <td>37.460664</td>\n",
              "      <td>-3.821329</td>\n",
              "      <td>Kwa Mahundi</td>\n",
              "      <td>0</td>\n",
              "      <td>Pangani</td>\n",
              "      <td>Majengo</td>\n",
              "      <td>Manyara</td>\n",
              "      <td>21</td>\n",
              "      <td>4</td>\n",
              "      <td>Simanjiro</td>\n",
              "      <td>Ngorika</td>\n",
              "      <td>250</td>\n",
              "      <td>True</td>\n",
              "      <td>GeoData Consultants Ltd</td>\n",
              "      <td>VWC</td>\n",
              "      <td>Nyumba ya mungu pipe scheme</td>\n",
              "      <td>True</td>\n",
              "      <td>2009</td>\n",
              "      <td>gravity</td>\n",
              "      <td>gravity</td>\n",
              "      <td>gravity</td>\n",
              "      <td>vwc</td>\n",
              "      <td>user-group</td>\n",
              "      <td>pay per bucket</td>\n",
              "      <td>per bucket</td>\n",
              "      <td>soft</td>\n",
              "      <td>good</td>\n",
              "      <td>enough</td>\n",
              "      <td>enough</td>\n",
              "      <td>dam</td>\n",
              "      <td>dam</td>\n",
              "      <td>surface</td>\n",
              "      <td>communal standpipe multiple</td>\n",
              "      <td>communal standpipe</td>\n",
              "      <td>functional</td>\n",
              "    </tr>\n",
              "    <tr>\n",
              "      <th>3</th>\n",
              "      <td>67743</td>\n",
              "      <td>0.0</td>\n",
              "      <td>2013-01-28</td>\n",
              "      <td>Unicef</td>\n",
              "      <td>263</td>\n",
              "      <td>UNICEF</td>\n",
              "      <td>38.486161</td>\n",
              "      <td>-11.155298</td>\n",
              "      <td>Zahanati Ya Nanyumbu</td>\n",
              "      <td>0</td>\n",
              "      <td>Ruvuma / Southern Coast</td>\n",
              "      <td>Mahakamani</td>\n",
              "      <td>Mtwara</td>\n",
              "      <td>90</td>\n",
              "      <td>63</td>\n",
              "      <td>Nanyumbu</td>\n",
              "      <td>Nanyumbu</td>\n",
              "      <td>58</td>\n",
              "      <td>True</td>\n",
              "      <td>GeoData Consultants Ltd</td>\n",
              "      <td>VWC</td>\n",
              "      <td>NaN</td>\n",
              "      <td>True</td>\n",
              "      <td>1986</td>\n",
              "      <td>submersible</td>\n",
              "      <td>submersible</td>\n",
              "      <td>submersible</td>\n",
              "      <td>vwc</td>\n",
              "      <td>user-group</td>\n",
              "      <td>never pay</td>\n",
              "      <td>never pay</td>\n",
              "      <td>soft</td>\n",
              "      <td>good</td>\n",
              "      <td>dry</td>\n",
              "      <td>dry</td>\n",
              "      <td>machine dbh</td>\n",
              "      <td>borehole</td>\n",
              "      <td>groundwater</td>\n",
              "      <td>communal standpipe multiple</td>\n",
              "      <td>communal standpipe</td>\n",
              "      <td>non functional</td>\n",
              "    </tr>\n",
              "    <tr>\n",
              "      <th>4</th>\n",
              "      <td>19728</td>\n",
              "      <td>0.0</td>\n",
              "      <td>2011-07-13</td>\n",
              "      <td>Action In A</td>\n",
              "      <td>0</td>\n",
              "      <td>Artisan</td>\n",
              "      <td>31.130847</td>\n",
              "      <td>-1.825359</td>\n",
              "      <td>Shuleni</td>\n",
              "      <td>0</td>\n",
              "      <td>Lake Victoria</td>\n",
              "      <td>Kyanyamisa</td>\n",
              "      <td>Kagera</td>\n",
              "      <td>18</td>\n",
              "      <td>1</td>\n",
              "      <td>Karagwe</td>\n",
              "      <td>Nyakasimbi</td>\n",
              "      <td>0</td>\n",
              "      <td>True</td>\n",
              "      <td>GeoData Consultants Ltd</td>\n",
              "      <td>NaN</td>\n",
              "      <td>NaN</td>\n",
              "      <td>True</td>\n",
              "      <td>0</td>\n",
              "      <td>gravity</td>\n",
              "      <td>gravity</td>\n",
              "      <td>gravity</td>\n",
              "      <td>other</td>\n",
              "      <td>other</td>\n",
              "      <td>never pay</td>\n",
              "      <td>never pay</td>\n",
              "      <td>soft</td>\n",
              "      <td>good</td>\n",
              "      <td>seasonal</td>\n",
              "      <td>seasonal</td>\n",
              "      <td>rainwater harvesting</td>\n",
              "      <td>rainwater harvesting</td>\n",
              "      <td>surface</td>\n",
              "      <td>communal standpipe</td>\n",
              "      <td>communal standpipe</td>\n",
              "      <td>functional</td>\n",
              "    </tr>\n",
              "  </tbody>\n",
              "</table>\n",
              "</div>"
            ],
            "text/plain": [
              "      id  amount_tsh  ... waterpoint_type_group    status_group\n",
              "0  69572      6000.0  ...    communal standpipe      functional\n",
              "1   8776         0.0  ...    communal standpipe      functional\n",
              "2  34310        25.0  ...    communal standpipe      functional\n",
              "3  67743         0.0  ...    communal standpipe  non functional\n",
              "4  19728         0.0  ...    communal standpipe      functional\n",
              "\n",
              "[5 rows x 41 columns]"
            ]
          },
          "metadata": {
            "tags": []
          },
          "execution_count": 4
        }
      ]
    },
    {
      "cell_type": "code",
      "metadata": {
        "id": "XSt86uYJhGgb",
        "colab_type": "code",
        "colab": {
          "base_uri": "https://localhost:8080/",
          "height": 85
        },
        "outputId": "e52caea8-9999-4183-f88a-700fe3a36367"
      },
      "source": [
        "\n",
        "train_labels['status_group'].value_counts(normalize = True)\n"
      ],
      "execution_count": 5,
      "outputs": [
        {
          "output_type": "execute_result",
          "data": {
            "text/plain": [
              "functional                 0.543081\n",
              "non functional             0.384242\n",
              "functional needs repair    0.072677\n",
              "Name: status_group, dtype: float64"
            ]
          },
          "metadata": {
            "tags": []
          },
          "execution_count": 5
        }
      ]
    },
    {
      "cell_type": "code",
      "metadata": {
        "id": "1zutZBpShGjB",
        "colab_type": "code",
        "colab": {
          "base_uri": "https://localhost:8080/",
          "height": 221
        },
        "outputId": "3732d179-6c98-4d91-cc21-3794d5c2848b"
      },
      "source": [
        "train['installer'].value_counts()\n",
        "# Five main installers are DWE, Government, RWE, Commu, DANIDA"
      ],
      "execution_count": 6,
      "outputs": [
        {
          "output_type": "execute_result",
          "data": {
            "text/plain": [
              "DWE                   17402\n",
              "Government             1825\n",
              "RWE                    1206\n",
              "Commu                  1060\n",
              "DANIDA                 1050\n",
              "                      ...  \n",
              "BABTEST                   1\n",
              "TASAF and Comunity        1\n",
              "AQUA BLUES ANGELS         1\n",
              "Pankrasi                  1\n",
              "Deus Ndege                1\n",
              "Name: installer, Length: 2145, dtype: int64"
            ]
          },
          "metadata": {
            "tags": []
          },
          "execution_count": 6
        }
      ]
    },
    {
      "cell_type": "code",
      "metadata": {
        "id": "J6jKSWPOhGnL",
        "colab_type": "code",
        "colab": {}
      },
      "source": [
        "# installer put into different categories\n",
        "def clean_installer(train):\n",
        "     if train['installer']=='DWE':\n",
        "         return 'dwe'\n",
        "     elif train['installer']=='Government':\n",
        "         return 'government'\n",
        "     elif train['installer']=='RWE':\n",
        "         return 'rwe'\n",
        "     elif train['installer']=='Commu':\n",
        "         return 'commu'\n",
        "     elif train['installer']=='DANIDA':\n",
        "         return 'danida'    \n",
        "     else:\n",
        "         return 'other'\n",
        "    \n",
        "train['installer']= train.apply(lambda row: clean_installer(row), axis=1)\n",
        "test_data_copy['installer']= test_data_copy.apply(lambda row: clean_installer(row), axis=1)"
      ],
      "execution_count": 7,
      "outputs": []
    },
    {
      "cell_type": "code",
      "metadata": {
        "id": "bN1c6aWphGwq",
        "colab_type": "code",
        "colab": {
          "base_uri": "https://localhost:8080/",
          "height": 136
        },
        "outputId": "f9a50481-ee4f-441c-9f1f-c742758296c2"
      },
      "source": [
        "\n",
        "train['installer'].value_counts()"
      ],
      "execution_count": 8,
      "outputs": [
        {
          "output_type": "execute_result",
          "data": {
            "text/plain": [
              "other         36857\n",
              "dwe           17402\n",
              "government     1825\n",
              "rwe            1206\n",
              "commu          1060\n",
              "danida         1050\n",
              "Name: installer, dtype: int64"
            ]
          },
          "metadata": {
            "tags": []
          },
          "execution_count": 8
        }
      ]
    },
    {
      "cell_type": "code",
      "metadata": {
        "id": "XlXjom7phG2-",
        "colab_type": "code",
        "colab": {
          "base_uri": "https://localhost:8080/",
          "height": 221
        },
        "outputId": "3237df6b-2ddb-43ad-a156-6e95fdb6137c"
      },
      "source": [
        "train['funder'].value_counts()"
      ],
      "execution_count": 9,
      "outputs": [
        {
          "output_type": "execute_result",
          "data": {
            "text/plain": [
              "Government Of Tanzania    9084\n",
              "Danida                    3114\n",
              "Hesawa                    2202\n",
              "Rwssp                     1374\n",
              "World Bank                1349\n",
              "                          ... \n",
              "Pentecostal                  1\n",
              "Tz As                        1\n",
              "Makona                       1\n",
              "Agt Church                   1\n",
              "Rumaki                       1\n",
              "Name: funder, Length: 1897, dtype: int64"
            ]
          },
          "metadata": {
            "tags": []
          },
          "execution_count": 9
        }
      ]
    },
    {
      "cell_type": "code",
      "metadata": {
        "id": "PNsSsi3RiD88",
        "colab_type": "code",
        "colab": {}
      },
      "source": [
        "def funder_cleaning(train):\n",
        "  if train['funder']=='Government Of Tanzania':\n",
        "    return 'government'\n",
        "  elif train['funder']=='Danida':\n",
        "    return 'danida'\n",
        "  elif train['funder']=='Hesawa':\n",
        "    return 'hesawa'\n",
        "  elif train['funder']=='Rwssp':\n",
        "    return 'rwssp'\n",
        "  elif train['funder']=='World Bank':\n",
        "    return 'world_bank'    \n",
        "  else:\n",
        "    return 'other'\n",
        "    \n",
        "train['funder']= train.apply(lambda row: funder_cleaning(row), axis=1)\n",
        "test_data_copy['funder']= test_data_copy.apply(lambda row: funder_cleaning(row), axis=1)"
      ],
      "execution_count": 10,
      "outputs": []
    },
    {
      "cell_type": "code",
      "metadata": {
        "id": "JhIC9MLNiD_Y",
        "colab_type": "code",
        "colab": {
          "base_uri": "https://localhost:8080/",
          "height": 136
        },
        "outputId": "a585226a-e689-4af5-929c-348f99f6d263"
      },
      "source": [
        "\n",
        "train['funder'].value_counts()"
      ],
      "execution_count": 11,
      "outputs": [
        {
          "output_type": "execute_result",
          "data": {
            "text/plain": [
              "other         42277\n",
              "government     9084\n",
              "danida         3114\n",
              "hesawa         2202\n",
              "rwssp          1374\n",
              "world_bank     1349\n",
              "Name: funder, dtype: int64"
            ]
          },
          "metadata": {
            "tags": []
          },
          "execution_count": 11
        }
      ]
    },
    {
      "cell_type": "code",
      "metadata": {
        "id": "REXlQWoCiEDX",
        "colab_type": "code",
        "colab": {
          "base_uri": "https://localhost:8080/",
          "height": 238
        },
        "outputId": "e6673db1-23ae-46fb-dc27-ab6f7bb5d6f4"
      },
      "source": [
        "train['scheme_management'].value_counts()\n"
      ],
      "execution_count": 12,
      "outputs": [
        {
          "output_type": "execute_result",
          "data": {
            "text/plain": [
              "VWC                 36793\n",
              "WUG                  5206\n",
              "Water authority      3153\n",
              "WUA                  2883\n",
              "Water Board          2748\n",
              "Parastatal           1680\n",
              "Private operator     1063\n",
              "Company              1061\n",
              "Other                 766\n",
              "SWC                    97\n",
              "Trust                  72\n",
              "None                    1\n",
              "Name: scheme_management, dtype: int64"
            ]
          },
          "metadata": {
            "tags": []
          },
          "execution_count": 12
        }
      ]
    },
    {
      "cell_type": "code",
      "metadata": {
        "id": "mT7tCmXHiENm",
        "colab_type": "code",
        "colab": {}
      },
      "source": [
        "\n",
        "def scheme_wrangler(row):\n",
        "     '''Keep top 5 values and set the rest to 'other'. '''\n",
        "     if row['scheme_management']=='VWC':\n",
        "         return 'vwc'\n",
        "     elif row['scheme_management']=='WUG':\n",
        "         return 'wug'\n",
        "     elif row['scheme_management']=='Water authority':\n",
        "         return 'wtr_auth'\n",
        "     elif row['scheme_management']=='WUA':\n",
        "         return 'wua'\n",
        "     elif row['scheme_management']=='Water Board':\n",
        "         return 'wtr_brd'\n",
        "     else:\n",
        "         return 'other'\n",
        "\n",
        "train['scheme_management'] = train.apply(lambda row: scheme_wrangler(row), axis=1)\n",
        "test_data_copy['scheme_management'] = test_data_copy.apply(lambda row: scheme_wrangler(row), axis=1)"
      ],
      "execution_count": 13,
      "outputs": []
    },
    {
      "cell_type": "code",
      "metadata": {
        "id": "x54gE01KiEQn",
        "colab_type": "code",
        "colab": {
          "base_uri": "https://localhost:8080/",
          "height": 731
        },
        "outputId": "4458c570-95b8-42d9-85a1-3503f771bfe6"
      },
      "source": [
        "train.isna().sum()"
      ],
      "execution_count": 14,
      "outputs": [
        {
          "output_type": "execute_result",
          "data": {
            "text/plain": [
              "id                           0\n",
              "amount_tsh                   0\n",
              "date_recorded                0\n",
              "funder                       0\n",
              "gps_height                   0\n",
              "installer                    0\n",
              "longitude                    0\n",
              "latitude                     0\n",
              "wpt_name                     0\n",
              "num_private                  0\n",
              "basin                        0\n",
              "subvillage                 371\n",
              "region                       0\n",
              "region_code                  0\n",
              "district_code                0\n",
              "lga                          0\n",
              "ward                         0\n",
              "population                   0\n",
              "public_meeting            3334\n",
              "recorded_by                  0\n",
              "scheme_management            0\n",
              "scheme_name              28166\n",
              "permit                    3056\n",
              "construction_year            0\n",
              "extraction_type              0\n",
              "extraction_type_group        0\n",
              "extraction_type_class        0\n",
              "management                   0\n",
              "management_group             0\n",
              "payment                      0\n",
              "payment_type                 0\n",
              "water_quality                0\n",
              "quality_group                0\n",
              "quantity                     0\n",
              "quantity_group               0\n",
              "source                       0\n",
              "source_type                  0\n",
              "source_class                 0\n",
              "waterpoint_type              0\n",
              "waterpoint_type_group        0\n",
              "status_group                 0\n",
              "dtype: int64"
            ]
          },
          "metadata": {
            "tags": []
          },
          "execution_count": 14
        }
      ]
    },
    {
      "cell_type": "code",
      "metadata": {
        "id": "a15DUm8CiES_",
        "colab_type": "code",
        "colab": {}
      },
      "source": [
        "# Will also drop scheme_name feature because it is missing 47.4 of its values in the test dataset\n",
        "train.drop(['scheme_name'], axis=1, inplace=True)\n",
        "test_data_copy.drop(['scheme_name'], axis=1, inplace=True)"
      ],
      "execution_count": 15,
      "outputs": []
    },
    {
      "cell_type": "code",
      "metadata": {
        "id": "9fo3o6K0iEL2",
        "colab_type": "code",
        "colab": {}
      },
      "source": [
        "# Since public_meeting gives us true of false to rather the well if for public meeting and the\n",
        "# majority of the vales are true we will fill the 5.9 percent of the missing values with true.\n",
        "train['public_meeting'] = train['public_meeting'].fillna('True')\n",
        "test_data_copy['public_meeting'] = test_data_copy['public_meeting'].fillna('True')"
      ],
      "execution_count": 16,
      "outputs": []
    },
    {
      "cell_type": "code",
      "metadata": {
        "id": "2a6c6qFmiEJ_",
        "colab_type": "code",
        "colab": {}
      },
      "source": [
        "# The permit feature is missin a little over 5% of its values so they will be filled with a string\n",
        "train['permit'] = train['permit'].fillna('Unsure')\n",
        "test_data_copy['permit'] = test_data_copy['permit'].fillna('Unsure')"
      ],
      "execution_count": 17,
      "outputs": []
    },
    {
      "cell_type": "code",
      "metadata": {
        "id": "ZJkoqMVbhGzL",
        "colab_type": "code",
        "colab": {}
      },
      "source": [
        "\n",
        "# We will drop train waterpoint_type because it is very close to waterpoint_type_group and redundency isn't good\n",
        "train.drop(['waterpoint_type'], axis=1, inplace=True)\n",
        "test_data_copy.drop(['waterpoint_type'], axis=1, inplace=True)"
      ],
      "execution_count": 18,
      "outputs": []
    },
    {
      "cell_type": "code",
      "metadata": {
        "id": "tHCyKgQzkdpr",
        "colab_type": "code",
        "colab": {}
      },
      "source": [
        "# Dropping the feature recorded_by because it has the same value which is not useful\n",
        "train.drop(['recorded_by'], axis=1, inplace=True)\n",
        "test_data_copy.drop(['recorded_by'], axis=1, inplace=True)"
      ],
      "execution_count": 19,
      "outputs": []
    },
    {
      "cell_type": "code",
      "metadata": {
        "id": "aASkRiiLkdtW",
        "colab_type": "code",
        "colab": {}
      },
      "source": [
        "# Source and source type are very similar to the point where it seems some\n",
        "# of the value groups have been grouped together so we will drop souce \n",
        "\n",
        "train.drop(['source'], axis=1, inplace=True)\n",
        "test_data_copy.drop(['source'],axis=1, inplace=True)"
      ],
      "execution_count": 20,
      "outputs": []
    },
    {
      "cell_type": "code",
      "metadata": {
        "id": "mw2IRDe8kdvp",
        "colab_type": "code",
        "colab": {}
      },
      "source": [
        "train.drop(['quality_group'], axis=1, inplace=True)\n",
        "test_data_copy.drop(['quality_group'], axis=1, inplace=True)"
      ],
      "execution_count": 21,
      "outputs": []
    },
    {
      "cell_type": "code",
      "metadata": {
        "id": "6n7cwWfSkd2s",
        "colab_type": "code",
        "colab": {}
      },
      "source": [
        "train.drop(['payment'], axis=1, inplace=True)\n",
        "test_data_copy.drop(['payment'], axis=1, inplace=True)"
      ],
      "execution_count": 22,
      "outputs": []
    },
    {
      "cell_type": "code",
      "metadata": {
        "id": "QWj5QgDgkd77",
        "colab_type": "code",
        "colab": {}
      },
      "source": [
        "# The extraction features are very similar and even seem to be a little mergered so we will drop two of them\n",
        "train.drop(['extraction_type_group'], axis=1, inplace=True)\n",
        "test_data_copy.drop(['extraction_type_group'], axis=1, inplace=True)\n",
        "\n",
        "train.drop(['extraction_type'], axis=1, inplace=True)\n",
        "test_data_copy.drop(['extraction_type'], axis=1, inplace=True)"
      ],
      "execution_count": 23,
      "outputs": []
    },
    {
      "cell_type": "code",
      "metadata": {
        "id": "Exs7ILzVkd-b",
        "colab_type": "code",
        "colab": {}
      },
      "source": [
        "# We will drop management because management_group is the categorized version of the data\n",
        "train.drop(['management'], axis=1, inplace=True)\n",
        "test_data_copy.drop(['management'], axis=1, inplace=True)"
      ],
      "execution_count": 24,
      "outputs": []
    },
    {
      "cell_type": "code",
      "metadata": {
        "id": "HXc0TVDNkeAe",
        "colab_type": "code",
        "colab": {}
      },
      "source": [
        "def cat_construction(x):\n",
        "     if x['construction_year'] >= int(1960) and x['construction_year'] < int(1970):\n",
        "         return '60s'\n",
        "     elif x['construction_year'] >= int(1970) and x['construction_year'] < int(1980):\n",
        "         return '70s'\n",
        "     elif x['construction_year'] >= int(1980) and x['construction_year'] < int(1990):\n",
        "         return '80s'\n",
        "     elif x['construction_year'] >= int(1990) and x['construction_year'] < int(2000):\n",
        "         return '90s'\n",
        "     elif x['construction_year'] >= int(2000) and x['construction_year'] < int(2010):\n",
        "         return '00s'\n",
        "     elif x['construction_year'] >= int(2010):\n",
        "         return '10s'\n",
        "     else:\n",
        "         return 'unknown'\n",
        "    \n",
        "train['construction_year'] = train.apply(lambda x: cat_construction(x), axis=1)\n",
        "test_data_copy['construction_year'] = test_data_copy.apply(lambda x: cat_construction(x), axis=1)"
      ],
      "execution_count": 25,
      "outputs": []
    },
    {
      "cell_type": "code",
      "metadata": {
        "id": "DVFlBXoTm9_-",
        "colab_type": "code",
        "colab": {}
      },
      "source": [
        "train.drop(['subvillage'], axis=1, inplace=True)\n",
        "test_data_copy.drop(['subvillage'], axis=1, inplace=True)"
      ],
      "execution_count": 26,
      "outputs": []
    },
    {
      "cell_type": "code",
      "metadata": {
        "id": "6OU-b4XRmHXo",
        "colab_type": "code",
        "colab": {}
      },
      "source": [
        "train.drop(['date_recorded'], axis=1, inplace=True)\n",
        "test_data_copy.drop(['date_recorded'], axis=1, inplace=True)"
      ],
      "execution_count": 27,
      "outputs": []
    },
    {
      "cell_type": "code",
      "metadata": {
        "id": "qiuTdxWeZLxQ",
        "colab_type": "code",
        "colab": {}
      },
      "source": [
        "train[(\"longitude\")] = train[(\"longitude\")].astype(int)\n"
      ],
      "execution_count": 28,
      "outputs": []
    },
    {
      "cell_type": "code",
      "metadata": {
        "id": "Vy6Svkr4ZnSt",
        "colab_type": "code",
        "colab": {}
      },
      "source": [
        "train[(\"latitude\")] = train[('latitude')].astype(int)"
      ],
      "execution_count": 29,
      "outputs": []
    },
    {
      "cell_type": "code",
      "metadata": {
        "id": "yvMRd4BzaXtW",
        "colab_type": "code",
        "colab": {}
      },
      "source": [
        "train[(\"amount_tsh\")] = train[(\"amount_tsh\")].astype(int)"
      ],
      "execution_count": 30,
      "outputs": []
    },
    {
      "cell_type": "code",
      "metadata": {
        "id": "s74rExpNZxv9",
        "colab_type": "code",
        "colab": {
          "base_uri": "https://localhost:8080/",
          "height": 213
        },
        "outputId": "9919ada5-c958-4571-f20b-feeda02b4adf"
      },
      "source": [
        "train.head(3)"
      ],
      "execution_count": 31,
      "outputs": [
        {
          "output_type": "execute_result",
          "data": {
            "text/html": [
              "<div>\n",
              "<style scoped>\n",
              "    .dataframe tbody tr th:only-of-type {\n",
              "        vertical-align: middle;\n",
              "    }\n",
              "\n",
              "    .dataframe tbody tr th {\n",
              "        vertical-align: top;\n",
              "    }\n",
              "\n",
              "    .dataframe thead th {\n",
              "        text-align: right;\n",
              "    }\n",
              "</style>\n",
              "<table border=\"1\" class=\"dataframe\">\n",
              "  <thead>\n",
              "    <tr style=\"text-align: right;\">\n",
              "      <th></th>\n",
              "      <th>id</th>\n",
              "      <th>amount_tsh</th>\n",
              "      <th>funder</th>\n",
              "      <th>gps_height</th>\n",
              "      <th>installer</th>\n",
              "      <th>longitude</th>\n",
              "      <th>latitude</th>\n",
              "      <th>wpt_name</th>\n",
              "      <th>num_private</th>\n",
              "      <th>basin</th>\n",
              "      <th>region</th>\n",
              "      <th>region_code</th>\n",
              "      <th>district_code</th>\n",
              "      <th>lga</th>\n",
              "      <th>ward</th>\n",
              "      <th>population</th>\n",
              "      <th>public_meeting</th>\n",
              "      <th>scheme_management</th>\n",
              "      <th>permit</th>\n",
              "      <th>construction_year</th>\n",
              "      <th>extraction_type_class</th>\n",
              "      <th>management_group</th>\n",
              "      <th>payment_type</th>\n",
              "      <th>water_quality</th>\n",
              "      <th>quantity</th>\n",
              "      <th>quantity_group</th>\n",
              "      <th>source_type</th>\n",
              "      <th>source_class</th>\n",
              "      <th>waterpoint_type_group</th>\n",
              "      <th>status_group</th>\n",
              "    </tr>\n",
              "  </thead>\n",
              "  <tbody>\n",
              "    <tr>\n",
              "      <th>0</th>\n",
              "      <td>69572</td>\n",
              "      <td>6000</td>\n",
              "      <td>other</td>\n",
              "      <td>1390</td>\n",
              "      <td>other</td>\n",
              "      <td>34</td>\n",
              "      <td>-9</td>\n",
              "      <td>none</td>\n",
              "      <td>0</td>\n",
              "      <td>Lake Nyasa</td>\n",
              "      <td>Iringa</td>\n",
              "      <td>11</td>\n",
              "      <td>5</td>\n",
              "      <td>Ludewa</td>\n",
              "      <td>Mundindi</td>\n",
              "      <td>109</td>\n",
              "      <td>True</td>\n",
              "      <td>vwc</td>\n",
              "      <td>False</td>\n",
              "      <td>90s</td>\n",
              "      <td>gravity</td>\n",
              "      <td>user-group</td>\n",
              "      <td>annually</td>\n",
              "      <td>soft</td>\n",
              "      <td>enough</td>\n",
              "      <td>enough</td>\n",
              "      <td>spring</td>\n",
              "      <td>groundwater</td>\n",
              "      <td>communal standpipe</td>\n",
              "      <td>functional</td>\n",
              "    </tr>\n",
              "    <tr>\n",
              "      <th>1</th>\n",
              "      <td>8776</td>\n",
              "      <td>0</td>\n",
              "      <td>other</td>\n",
              "      <td>1399</td>\n",
              "      <td>other</td>\n",
              "      <td>34</td>\n",
              "      <td>-2</td>\n",
              "      <td>Zahanati</td>\n",
              "      <td>0</td>\n",
              "      <td>Lake Victoria</td>\n",
              "      <td>Mara</td>\n",
              "      <td>20</td>\n",
              "      <td>2</td>\n",
              "      <td>Serengeti</td>\n",
              "      <td>Natta</td>\n",
              "      <td>280</td>\n",
              "      <td>True</td>\n",
              "      <td>other</td>\n",
              "      <td>True</td>\n",
              "      <td>10s</td>\n",
              "      <td>gravity</td>\n",
              "      <td>user-group</td>\n",
              "      <td>never pay</td>\n",
              "      <td>soft</td>\n",
              "      <td>insufficient</td>\n",
              "      <td>insufficient</td>\n",
              "      <td>rainwater harvesting</td>\n",
              "      <td>surface</td>\n",
              "      <td>communal standpipe</td>\n",
              "      <td>functional</td>\n",
              "    </tr>\n",
              "    <tr>\n",
              "      <th>2</th>\n",
              "      <td>34310</td>\n",
              "      <td>25</td>\n",
              "      <td>other</td>\n",
              "      <td>686</td>\n",
              "      <td>other</td>\n",
              "      <td>37</td>\n",
              "      <td>-3</td>\n",
              "      <td>Kwa Mahundi</td>\n",
              "      <td>0</td>\n",
              "      <td>Pangani</td>\n",
              "      <td>Manyara</td>\n",
              "      <td>21</td>\n",
              "      <td>4</td>\n",
              "      <td>Simanjiro</td>\n",
              "      <td>Ngorika</td>\n",
              "      <td>250</td>\n",
              "      <td>True</td>\n",
              "      <td>vwc</td>\n",
              "      <td>True</td>\n",
              "      <td>00s</td>\n",
              "      <td>gravity</td>\n",
              "      <td>user-group</td>\n",
              "      <td>per bucket</td>\n",
              "      <td>soft</td>\n",
              "      <td>enough</td>\n",
              "      <td>enough</td>\n",
              "      <td>dam</td>\n",
              "      <td>surface</td>\n",
              "      <td>communal standpipe</td>\n",
              "      <td>functional</td>\n",
              "    </tr>\n",
              "  </tbody>\n",
              "</table>\n",
              "</div>"
            ],
            "text/plain": [
              "      id  amount_tsh funder  ...  source_class waterpoint_type_group  status_group\n",
              "0  69572        6000  other  ...   groundwater    communal standpipe    functional\n",
              "1   8776           0  other  ...       surface    communal standpipe    functional\n",
              "2  34310          25  other  ...       surface    communal standpipe    functional\n",
              "\n",
              "[3 rows x 30 columns]"
            ]
          },
          "metadata": {
            "tags": []
          },
          "execution_count": 31
        }
      ]
    },
    {
      "cell_type": "code",
      "metadata": {
        "id": "mrM3_fqzZyLm",
        "colab_type": "code",
        "colab": {}
      },
      "source": [
        ""
      ],
      "execution_count": null,
      "outputs": []
    },
    {
      "cell_type": "code",
      "metadata": {
        "id": "aGkqKr2UZheP",
        "colab_type": "code",
        "colab": {
          "base_uri": "https://localhost:8080/",
          "height": 663
        },
        "outputId": "5c936e3b-8733-481d-fba3-150248d6679b"
      },
      "source": [
        "train.info()"
      ],
      "execution_count": 29,
      "outputs": [
        {
          "output_type": "stream",
          "text": [
            "<class 'pandas.core.frame.DataFrame'>\n",
            "Int64Index: 59400 entries, 0 to 59399\n",
            "Data columns (total 31 columns):\n",
            " #   Column                 Non-Null Count  Dtype  \n",
            "---  ------                 --------------  -----  \n",
            " 0   id                     59400 non-null  int64  \n",
            " 1   amount_tsh             59400 non-null  float64\n",
            " 2   date_recorded          59400 non-null  object \n",
            " 3   funder                 59400 non-null  object \n",
            " 4   gps_height             59400 non-null  int64  \n",
            " 5   installer              59400 non-null  object \n",
            " 6   longitude              59400 non-null  int64  \n",
            " 7   latitude               59400 non-null  int64  \n",
            " 8   wpt_name               59400 non-null  object \n",
            " 9   num_private            59400 non-null  int64  \n",
            " 10  basin                  59400 non-null  object \n",
            " 11  region                 59400 non-null  object \n",
            " 12  region_code            59400 non-null  int64  \n",
            " 13  district_code          59400 non-null  int64  \n",
            " 14  lga                    59400 non-null  object \n",
            " 15  ward                   59400 non-null  object \n",
            " 16  population             59400 non-null  int64  \n",
            " 17  public_meeting         59400 non-null  object \n",
            " 18  scheme_management      59400 non-null  object \n",
            " 19  permit                 59400 non-null  object \n",
            " 20  construction_year      59400 non-null  object \n",
            " 21  extraction_type_class  59400 non-null  object \n",
            " 22  management_group       59400 non-null  object \n",
            " 23  payment_type           59400 non-null  object \n",
            " 24  water_quality          59400 non-null  object \n",
            " 25  quantity               59400 non-null  object \n",
            " 26  quantity_group         59400 non-null  object \n",
            " 27  source_type            59400 non-null  object \n",
            " 28  source_class           59400 non-null  object \n",
            " 29  waterpoint_type_group  59400 non-null  object \n",
            " 30  status_group           59400 non-null  object \n",
            "dtypes: float64(1), int64(8), object(22)\n",
            "memory usage: 14.5+ MB\n"
          ],
          "name": "stdout"
        }
      ]
    },
    {
      "cell_type": "code",
      "metadata": {
        "id": "cWO6sw8aKsgT",
        "colab_type": "code",
        "colab": {}
      },
      "source": [
        "#train.drop(['longitude'], axis=1, inplace=True)\n",
        "#test_data_copy.drop(['longitude'], axis=1, inplace=True)"
      ],
      "execution_count": null,
      "outputs": []
    },
    {
      "cell_type": "code",
      "metadata": {
        "id": "jblyhB5SKtUL",
        "colab_type": "code",
        "colab": {}
      },
      "source": [
        "#train.drop(['latitude'], axis=1, inplace=True)\n",
        "#test_data_copy.drop(['latitude'], axis=1, inplace=True)"
      ],
      "execution_count": 28,
      "outputs": []
    },
    {
      "cell_type": "code",
      "metadata": {
        "id": "ZTZ7moMdKtak",
        "colab_type": "code",
        "colab": {}
      },
      "source": [
        "#train.drop(['amount_tsh'], axis=1, inplace=True)\n",
        "#test_data_copy.drop(['amount_tsh'], axis=1, inplace=True)"
      ],
      "execution_count": 29,
      "outputs": []
    },
    {
      "cell_type": "code",
      "metadata": {
        "id": "9-9MimTZl2__",
        "colab_type": "code",
        "colab": {
          "base_uri": "https://localhost:8080/",
          "height": 173
        },
        "outputId": "bf029882-f7ae-4834-eb61-275719ef34b5"
      },
      "source": [
        "train.columns"
      ],
      "execution_count": 32,
      "outputs": [
        {
          "output_type": "execute_result",
          "data": {
            "text/plain": [
              "Index(['id', 'amount_tsh', 'funder', 'gps_height', 'installer', 'longitude',\n",
              "       'latitude', 'wpt_name', 'num_private', 'basin', 'region', 'region_code',\n",
              "       'district_code', 'lga', 'ward', 'population', 'public_meeting',\n",
              "       'scheme_management', 'permit', 'construction_year',\n",
              "       'extraction_type_class', 'management_group', 'payment_type',\n",
              "       'water_quality', 'quantity', 'quantity_group', 'source_type',\n",
              "       'source_class', 'waterpoint_type_group', 'status_group'],\n",
              "      dtype='object')"
            ]
          },
          "metadata": {
            "tags": []
          },
          "execution_count": 32
        }
      ]
    },
    {
      "cell_type": "code",
      "metadata": {
        "id": "DYkemIVRkePo",
        "colab_type": "code",
        "colab": {}
      },
      "source": [
        ""
      ],
      "execution_count": null,
      "outputs": []
    },
    {
      "cell_type": "code",
      "metadata": {
        "id": "pCsjmCfUkdzo",
        "colab_type": "code",
        "colab": {}
      },
      "source": [
        ""
      ],
      "execution_count": null,
      "outputs": []
    },
    {
      "cell_type": "code",
      "metadata": {
        "id": "dWMjBWs5kdyN",
        "colab_type": "code",
        "colab": {}
      },
      "source": [
        ""
      ],
      "execution_count": null,
      "outputs": []
    },
    {
      "cell_type": "markdown",
      "metadata": {
        "id": "-q_0tfYlLJ_t",
        "colab_type": "text"
      },
      "source": [
        "# CTGAN Model"
      ]
    },
    {
      "cell_type": "code",
      "metadata": {
        "id": "977k3fbEMH2f",
        "colab_type": "code",
        "colab": {}
      },
      "source": [
        "pip install sdv"
      ],
      "execution_count": null,
      "outputs": []
    },
    {
      "cell_type": "code",
      "metadata": {
        "id": "EXmExg_MMbHL",
        "colab_type": "code",
        "colab": {}
      },
      "source": [
        "pip install sdv[ctgan]"
      ],
      "execution_count": null,
      "outputs": []
    },
    {
      "cell_type": "code",
      "metadata": {
        "id": "5h7ELANykdr_",
        "colab_type": "code",
        "colab": {}
      },
      "source": [
        "import sdv"
      ],
      "execution_count": 35,
      "outputs": []
    },
    {
      "cell_type": "code",
      "metadata": {
        "id": "uM6ovtAQ3FLk",
        "colab_type": "code",
        "colab": {}
      },
      "source": [
        "from sdv.tabular import CTGAN"
      ],
      "execution_count": 36,
      "outputs": []
    },
    {
      "cell_type": "code",
      "metadata": {
        "id": "9l1m-J7w3JcC",
        "colab_type": "code",
        "colab": {
          "base_uri": "https://localhost:8080/",
          "height": 71
        },
        "outputId": "855c5baa-51c5-4672-bb33-d5a50870f8ae"
      },
      "source": [
        "model = CTGAN(epochs=1000)"
      ],
      "execution_count": 37,
      "outputs": [
        {
          "output_type": "stream",
          "text": [
            "/usr/local/lib/python3.6/dist-packages/sklearn/utils/deprecation.py:144: FutureWarning: The sklearn.utils.testing module is  deprecated in version 0.22 and will be removed in version 0.24. The corresponding classes / functions should instead be imported from sklearn.utils. Anything that cannot be imported from sklearn.utils is now part of the private API.\n",
            "  warnings.warn(message, FutureWarning)\n"
          ],
          "name": "stderr"
        }
      ]
    },
    {
      "cell_type": "code",
      "metadata": {
        "id": "M5ufjOj93O6w",
        "colab_type": "code",
        "colab": {}
      },
      "source": [
        "\n",
        "from sdv import load_demo\n",
        "\n",
        "users = load_demo()['users']"
      ],
      "execution_count": 11,
      "outputs": []
    },
    {
      "cell_type": "code",
      "metadata": {
        "id": "IHZwJ2tx3PCG",
        "colab_type": "code",
        "colab": {
          "base_uri": "https://localhost:8080/",
          "height": 1000
        },
        "outputId": "db054a9b-e6b7-42df-e4b9-365cfe24b9e7"
      },
      "source": [
        "model.fit(train.sample(10000))"
      ],
      "execution_count": 38,
      "outputs": [
        {
          "output_type": "stream",
          "text": [
            "Epoch 1, Loss G: 2.7860, Loss D: -0.8293\n",
            "Epoch 2, Loss G: 2.3623, Loss D: -0.0192\n",
            "Epoch 3, Loss G: 2.5481, Loss D: 0.0720\n",
            "Epoch 4, Loss G: 2.4982, Loss D: -0.1292\n",
            "Epoch 5, Loss G: 2.1967, Loss D: -0.1108\n",
            "Epoch 6, Loss G: 1.4482, Loss D: 0.1068\n",
            "Epoch 7, Loss G: 1.4242, Loss D: 0.2205\n",
            "Epoch 8, Loss G: 1.3654, Loss D: -0.1390\n",
            "Epoch 9, Loss G: 0.7074, Loss D: 0.2570\n",
            "Epoch 10, Loss G: 0.7660, Loss D: 0.0421\n",
            "Epoch 11, Loss G: 0.9917, Loss D: -0.1021\n",
            "Epoch 12, Loss G: 0.9075, Loss D: -0.0782\n",
            "Epoch 13, Loss G: 0.7672, Loss D: 0.1823\n",
            "Epoch 14, Loss G: 0.3161, Loss D: 0.1636\n",
            "Epoch 15, Loss G: 0.3774, Loss D: -0.0013\n",
            "Epoch 16, Loss G: 0.4315, Loss D: -0.1798\n",
            "Epoch 17, Loss G: 0.6770, Loss D: -0.1384\n",
            "Epoch 18, Loss G: 0.5907, Loss D: -0.1653\n",
            "Epoch 19, Loss G: 0.6101, Loss D: -0.0311\n",
            "Epoch 20, Loss G: 0.8007, Loss D: -0.0324\n",
            "Epoch 21, Loss G: 0.4417, Loss D: -0.1062\n",
            "Epoch 22, Loss G: 0.4681, Loss D: -0.1115\n",
            "Epoch 23, Loss G: 0.7302, Loss D: -0.0507\n",
            "Epoch 24, Loss G: 0.3439, Loss D: 0.0665\n",
            "Epoch 25, Loss G: 0.4329, Loss D: -0.1507\n",
            "Epoch 26, Loss G: 0.3892, Loss D: -0.0178\n",
            "Epoch 27, Loss G: 0.4918, Loss D: -0.1429\n",
            "Epoch 28, Loss G: 0.4359, Loss D: -0.0735\n",
            "Epoch 29, Loss G: 0.5146, Loss D: 0.0160\n",
            "Epoch 30, Loss G: 0.6076, Loss D: -0.0552\n",
            "Epoch 31, Loss G: 0.3984, Loss D: -0.1392\n",
            "Epoch 32, Loss G: 0.2871, Loss D: -0.0032\n",
            "Epoch 33, Loss G: 0.6954, Loss D: -0.1097\n",
            "Epoch 34, Loss G: 0.4387, Loss D: 0.0251\n",
            "Epoch 35, Loss G: 0.5229, Loss D: -0.2392\n",
            "Epoch 36, Loss G: 0.4898, Loss D: -0.1622\n",
            "Epoch 37, Loss G: 0.2414, Loss D: -0.0726\n",
            "Epoch 38, Loss G: 0.0576, Loss D: -0.0498\n",
            "Epoch 39, Loss G: 0.5915, Loss D: -0.1225\n",
            "Epoch 40, Loss G: 0.2999, Loss D: 0.0128\n",
            "Epoch 41, Loss G: 0.2831, Loss D: -0.0984\n",
            "Epoch 42, Loss G: 0.5772, Loss D: 0.0135\n",
            "Epoch 43, Loss G: 0.3252, Loss D: -0.1161\n",
            "Epoch 44, Loss G: 0.3528, Loss D: -0.1559\n",
            "Epoch 45, Loss G: 0.1658, Loss D: -0.1849\n",
            "Epoch 46, Loss G: 0.1797, Loss D: -0.0407\n",
            "Epoch 47, Loss G: 0.6517, Loss D: -0.2396\n",
            "Epoch 48, Loss G: 0.3627, Loss D: -0.1108\n",
            "Epoch 49, Loss G: 0.3384, Loss D: 0.1022\n",
            "Epoch 50, Loss G: -0.0277, Loss D: -0.0863\n",
            "Epoch 51, Loss G: 0.4214, Loss D: -0.0251\n",
            "Epoch 52, Loss G: 0.2942, Loss D: -0.0217\n",
            "Epoch 53, Loss G: 0.0174, Loss D: -0.0611\n",
            "Epoch 54, Loss G: 0.3795, Loss D: -0.0074\n",
            "Epoch 55, Loss G: 0.3493, Loss D: -0.1198\n",
            "Epoch 56, Loss G: 0.4019, Loss D: -0.1211\n",
            "Epoch 57, Loss G: 0.4258, Loss D: -0.1964\n",
            "Epoch 58, Loss G: 0.3217, Loss D: -0.0594\n",
            "Epoch 59, Loss G: 0.4558, Loss D: -0.1354\n",
            "Epoch 60, Loss G: -0.0112, Loss D: -0.1153\n",
            "Epoch 61, Loss G: 0.3044, Loss D: -0.2603\n",
            "Epoch 62, Loss G: 0.1381, Loss D: -0.0613\n",
            "Epoch 63, Loss G: 0.5194, Loss D: -0.1009\n",
            "Epoch 64, Loss G: -0.0846, Loss D: -0.0321\n",
            "Epoch 65, Loss G: 0.2427, Loss D: -0.2886\n",
            "Epoch 66, Loss G: 0.4470, Loss D: -0.1083\n",
            "Epoch 67, Loss G: 0.3105, Loss D: -0.3014\n",
            "Epoch 68, Loss G: 0.3892, Loss D: -0.0974\n",
            "Epoch 69, Loss G: 0.7163, Loss D: -0.0239\n",
            "Epoch 70, Loss G: 0.7456, Loss D: -0.1988\n",
            "Epoch 71, Loss G: 0.3744, Loss D: -0.1689\n",
            "Epoch 72, Loss G: 0.3888, Loss D: -0.3123\n",
            "Epoch 73, Loss G: 0.2903, Loss D: -0.3249\n",
            "Epoch 74, Loss G: 0.5871, Loss D: -0.2390\n",
            "Epoch 75, Loss G: 0.1728, Loss D: -0.2849\n",
            "Epoch 76, Loss G: 0.3819, Loss D: -0.2855\n",
            "Epoch 77, Loss G: 0.5154, Loss D: -0.0896\n",
            "Epoch 78, Loss G: 0.4880, Loss D: 0.1329\n",
            "Epoch 79, Loss G: 0.2493, Loss D: -0.2144\n",
            "Epoch 80, Loss G: 0.6326, Loss D: -0.0260\n",
            "Epoch 81, Loss G: 0.6904, Loss D: -0.2131\n",
            "Epoch 82, Loss G: 0.4758, Loss D: -0.1152\n",
            "Epoch 83, Loss G: 0.3370, Loss D: 0.1034\n",
            "Epoch 84, Loss G: -0.0761, Loss D: -0.0408\n",
            "Epoch 85, Loss G: 0.3566, Loss D: -0.1207\n",
            "Epoch 86, Loss G: 0.3930, Loss D: -0.2130\n",
            "Epoch 87, Loss G: 0.2628, Loss D: -0.1497\n",
            "Epoch 88, Loss G: 0.4536, Loss D: 0.0502\n",
            "Epoch 89, Loss G: 0.0880, Loss D: -0.2167\n",
            "Epoch 90, Loss G: 0.3174, Loss D: -0.0498\n",
            "Epoch 91, Loss G: 0.2454, Loss D: -0.2483\n",
            "Epoch 92, Loss G: 0.0305, Loss D: -0.2205\n",
            "Epoch 93, Loss G: 0.0112, Loss D: 0.1219\n",
            "Epoch 94, Loss G: 0.6904, Loss D: -0.2967\n",
            "Epoch 95, Loss G: 0.2275, Loss D: 0.1320\n",
            "Epoch 96, Loss G: 0.0528, Loss D: 0.0092\n",
            "Epoch 97, Loss G: 0.0878, Loss D: -0.0598\n",
            "Epoch 98, Loss G: 0.5207, Loss D: -0.0047\n",
            "Epoch 99, Loss G: 0.0878, Loss D: -0.1484\n",
            "Epoch 100, Loss G: 0.3577, Loss D: -0.2283\n",
            "Epoch 101, Loss G: 0.2028, Loss D: -0.4451\n",
            "Epoch 102, Loss G: 0.4306, Loss D: -0.2143\n",
            "Epoch 103, Loss G: 0.2819, Loss D: -0.1196\n",
            "Epoch 104, Loss G: 0.4490, Loss D: -0.4299\n",
            "Epoch 105, Loss G: 0.6264, Loss D: -0.1965\n",
            "Epoch 106, Loss G: 0.3855, Loss D: -0.1381\n",
            "Epoch 107, Loss G: 0.2329, Loss D: -0.4530\n",
            "Epoch 108, Loss G: 0.5002, Loss D: -0.4605\n",
            "Epoch 109, Loss G: -0.0042, Loss D: -0.1130\n",
            "Epoch 110, Loss G: 0.4008, Loss D: -0.2620\n",
            "Epoch 111, Loss G: 0.2289, Loss D: 0.0751\n",
            "Epoch 112, Loss G: 0.1160, Loss D: -0.4247\n",
            "Epoch 113, Loss G: 0.6739, Loss D: -0.0567\n",
            "Epoch 114, Loss G: 0.4660, Loss D: -0.0456\n",
            "Epoch 115, Loss G: 0.4128, Loss D: -0.4249\n",
            "Epoch 116, Loss G: -0.0341, Loss D: 0.0863\n",
            "Epoch 117, Loss G: 0.8036, Loss D: -0.2890\n",
            "Epoch 118, Loss G: 0.4781, Loss D: -0.2583\n",
            "Epoch 119, Loss G: 0.7417, Loss D: -0.0727\n",
            "Epoch 120, Loss G: 0.7038, Loss D: -0.0622\n",
            "Epoch 121, Loss G: 0.4868, Loss D: -0.2358\n",
            "Epoch 122, Loss G: 0.7410, Loss D: -0.3776\n",
            "Epoch 123, Loss G: 0.6846, Loss D: -0.2373\n",
            "Epoch 124, Loss G: 0.2770, Loss D: -0.1390\n",
            "Epoch 125, Loss G: 0.5079, Loss D: -0.2958\n",
            "Epoch 126, Loss G: 0.0342, Loss D: -0.1531\n",
            "Epoch 127, Loss G: 0.1133, Loss D: -0.1347\n",
            "Epoch 128, Loss G: 0.4139, Loss D: -0.0433\n",
            "Epoch 129, Loss G: 0.0081, Loss D: -0.2166\n",
            "Epoch 130, Loss G: -0.1562, Loss D: -0.2445\n",
            "Epoch 131, Loss G: 0.7178, Loss D: -0.0618\n",
            "Epoch 132, Loss G: 0.5499, Loss D: -0.2150\n",
            "Epoch 133, Loss G: -0.2338, Loss D: 0.0558\n",
            "Epoch 134, Loss G: 0.1904, Loss D: -0.2648\n",
            "Epoch 135, Loss G: 0.2934, Loss D: -0.3591\n",
            "Epoch 136, Loss G: 0.2909, Loss D: -0.0817\n",
            "Epoch 137, Loss G: -0.0764, Loss D: -0.2127\n",
            "Epoch 138, Loss G: 0.1224, Loss D: 0.1680\n",
            "Epoch 139, Loss G: 0.3177, Loss D: -0.2213\n",
            "Epoch 140, Loss G: 0.4324, Loss D: -0.4877\n",
            "Epoch 141, Loss G: 0.0892, Loss D: -0.3906\n",
            "Epoch 142, Loss G: 0.6826, Loss D: 0.0824\n",
            "Epoch 143, Loss G: 0.4050, Loss D: 0.0923\n",
            "Epoch 144, Loss G: -0.2107, Loss D: -0.1186\n",
            "Epoch 145, Loss G: 0.0838, Loss D: -0.2098\n",
            "Epoch 146, Loss G: 0.2342, Loss D: -0.1219\n",
            "Epoch 147, Loss G: -0.2798, Loss D: -0.0512\n",
            "Epoch 148, Loss G: -0.1074, Loss D: -0.0791\n",
            "Epoch 149, Loss G: 0.1506, Loss D: -0.2771\n",
            "Epoch 150, Loss G: 0.2871, Loss D: -0.2251\n",
            "Epoch 151, Loss G: -0.1284, Loss D: 0.0980\n",
            "Epoch 152, Loss G: -0.3672, Loss D: -0.2914\n",
            "Epoch 153, Loss G: 0.5187, Loss D: -0.2055\n",
            "Epoch 154, Loss G: 0.3452, Loss D: 0.1167\n",
            "Epoch 155, Loss G: -0.2837, Loss D: -0.0470\n",
            "Epoch 156, Loss G: -0.1694, Loss D: -0.1342\n",
            "Epoch 157, Loss G: 0.2269, Loss D: -0.1951\n",
            "Epoch 158, Loss G: 0.6894, Loss D: -0.5787\n",
            "Epoch 159, Loss G: -0.3471, Loss D: 0.0474\n",
            "Epoch 160, Loss G: 0.6168, Loss D: -0.3576\n",
            "Epoch 161, Loss G: 0.0536, Loss D: 0.1339\n",
            "Epoch 162, Loss G: 0.5755, Loss D: -0.5522\n",
            "Epoch 163, Loss G: 0.3065, Loss D: -0.1133\n",
            "Epoch 164, Loss G: 0.4928, Loss D: -0.1290\n",
            "Epoch 165, Loss G: 0.1856, Loss D: -0.1709\n",
            "Epoch 166, Loss G: -0.0107, Loss D: -0.1793\n",
            "Epoch 167, Loss G: 0.1485, Loss D: -0.1386\n",
            "Epoch 168, Loss G: 0.2886, Loss D: -0.2305\n",
            "Epoch 169, Loss G: -0.1003, Loss D: 0.0929\n",
            "Epoch 170, Loss G: 0.4225, Loss D: -0.1395\n",
            "Epoch 171, Loss G: 0.1619, Loss D: -0.5318\n",
            "Epoch 172, Loss G: 0.4638, Loss D: -0.4218\n",
            "Epoch 173, Loss G: -0.0331, Loss D: -0.2060\n",
            "Epoch 174, Loss G: 0.4402, Loss D: 0.0805\n",
            "Epoch 175, Loss G: 0.5028, Loss D: 0.1982\n",
            "Epoch 176, Loss G: 0.4796, Loss D: -0.1220\n",
            "Epoch 177, Loss G: -0.2044, Loss D: -0.2490\n",
            "Epoch 178, Loss G: -0.1182, Loss D: -0.1923\n",
            "Epoch 179, Loss G: 0.3016, Loss D: -0.2670\n",
            "Epoch 180, Loss G: 0.2788, Loss D: -0.2174\n",
            "Epoch 181, Loss G: -0.0690, Loss D: -0.1913\n",
            "Epoch 182, Loss G: 0.1806, Loss D: -0.2795\n",
            "Epoch 183, Loss G: 0.7394, Loss D: -0.3656\n",
            "Epoch 184, Loss G: 0.3248, Loss D: 0.0391\n",
            "Epoch 185, Loss G: 0.4179, Loss D: -0.6302\n",
            "Epoch 186, Loss G: 0.6659, Loss D: -0.3291\n",
            "Epoch 187, Loss G: 0.9164, Loss D: 0.1057\n",
            "Epoch 188, Loss G: 0.3099, Loss D: -0.3623\n",
            "Epoch 189, Loss G: 0.1072, Loss D: 0.1286\n",
            "Epoch 190, Loss G: 0.1976, Loss D: 0.1215\n",
            "Epoch 191, Loss G: 0.8580, Loss D: -0.1409\n",
            "Epoch 192, Loss G: 0.2343, Loss D: -0.2592\n",
            "Epoch 193, Loss G: 0.1426, Loss D: 0.0109\n",
            "Epoch 194, Loss G: 0.3815, Loss D: -0.2385\n",
            "Epoch 195, Loss G: 0.8571, Loss D: -0.2342\n",
            "Epoch 196, Loss G: 0.4777, Loss D: -0.3375\n",
            "Epoch 197, Loss G: -0.0311, Loss D: -0.4326\n",
            "Epoch 198, Loss G: 0.3129, Loss D: -0.0539\n",
            "Epoch 199, Loss G: 0.5483, Loss D: -0.2045\n",
            "Epoch 200, Loss G: 0.1289, Loss D: 0.0365\n",
            "Epoch 201, Loss G: 0.3231, Loss D: -0.0717\n",
            "Epoch 202, Loss G: 0.0400, Loss D: -0.1390\n",
            "Epoch 203, Loss G: 0.0783, Loss D: -0.2007\n",
            "Epoch 204, Loss G: 0.4977, Loss D: 0.0451\n",
            "Epoch 205, Loss G: 0.2684, Loss D: 0.2245\n",
            "Epoch 206, Loss G: 0.1742, Loss D: -0.2023\n",
            "Epoch 207, Loss G: 0.1732, Loss D: -0.0411\n",
            "Epoch 208, Loss G: -0.0586, Loss D: -0.0860\n",
            "Epoch 209, Loss G: -0.2797, Loss D: 0.0177\n",
            "Epoch 210, Loss G: 0.2129, Loss D: -0.3480\n",
            "Epoch 211, Loss G: 0.1713, Loss D: -0.1496\n",
            "Epoch 212, Loss G: -0.2576, Loss D: 0.0273\n",
            "Epoch 213, Loss G: -0.3806, Loss D: -0.4114\n",
            "Epoch 214, Loss G: -0.2161, Loss D: -0.1686\n",
            "Epoch 215, Loss G: 0.2831, Loss D: -0.3107\n",
            "Epoch 216, Loss G: 0.2326, Loss D: -0.3645\n",
            "Epoch 217, Loss G: -0.0413, Loss D: -0.3511\n",
            "Epoch 218, Loss G: -0.2841, Loss D: -0.1044\n",
            "Epoch 219, Loss G: 0.2937, Loss D: -0.0620\n",
            "Epoch 220, Loss G: 0.4382, Loss D: 0.2017\n",
            "Epoch 221, Loss G: 0.0200, Loss D: -0.4169\n",
            "Epoch 222, Loss G: -0.0621, Loss D: -0.2354\n",
            "Epoch 223, Loss G: 0.0179, Loss D: -0.3453\n",
            "Epoch 224, Loss G: 0.3639, Loss D: -0.7334\n",
            "Epoch 225, Loss G: 0.1999, Loss D: -0.2030\n",
            "Epoch 226, Loss G: -0.0428, Loss D: -0.2469\n",
            "Epoch 227, Loss G: 0.0800, Loss D: -0.6013\n",
            "Epoch 228, Loss G: 0.1022, Loss D: -0.2732\n",
            "Epoch 229, Loss G: 0.1060, Loss D: -0.5040\n",
            "Epoch 230, Loss G: 0.1095, Loss D: -0.1378\n",
            "Epoch 231, Loss G: 0.4735, Loss D: -0.0781\n",
            "Epoch 232, Loss G: 0.5441, Loss D: -0.1817\n",
            "Epoch 233, Loss G: -0.3254, Loss D: -0.1446\n",
            "Epoch 234, Loss G: 0.4003, Loss D: -0.1514\n",
            "Epoch 235, Loss G: 0.6094, Loss D: -0.1968\n",
            "Epoch 236, Loss G: 0.3538, Loss D: -0.1628\n",
            "Epoch 237, Loss G: -0.3000, Loss D: -0.7028\n",
            "Epoch 238, Loss G: -0.2859, Loss D: 0.1655\n",
            "Epoch 239, Loss G: 0.2953, Loss D: 0.0357\n",
            "Epoch 240, Loss G: 0.5043, Loss D: -0.2762\n",
            "Epoch 241, Loss G: 0.2208, Loss D: 0.0916\n",
            "Epoch 242, Loss G: -0.0108, Loss D: 0.3774\n",
            "Epoch 243, Loss G: 0.4239, Loss D: -0.2093\n",
            "Epoch 244, Loss G: 0.3087, Loss D: 0.3916\n",
            "Epoch 245, Loss G: 0.0567, Loss D: 0.1758\n",
            "Epoch 246, Loss G: -0.1629, Loss D: -0.1752\n",
            "Epoch 247, Loss G: 0.5124, Loss D: -0.8133\n",
            "Epoch 248, Loss G: 0.3100, Loss D: -0.3209\n",
            "Epoch 249, Loss G: 0.4597, Loss D: -0.3658\n",
            "Epoch 250, Loss G: 0.0029, Loss D: -0.2838\n",
            "Epoch 251, Loss G: 0.4561, Loss D: -0.2237\n",
            "Epoch 252, Loss G: 0.6286, Loss D: 0.0734\n",
            "Epoch 253, Loss G: 0.2993, Loss D: 0.1270\n",
            "Epoch 254, Loss G: 0.0371, Loss D: -0.5021\n",
            "Epoch 255, Loss G: 0.2726, Loss D: -0.1126\n",
            "Epoch 256, Loss G: 0.9785, Loss D: -0.2029\n",
            "Epoch 257, Loss G: 0.5976, Loss D: -0.2528\n",
            "Epoch 258, Loss G: 0.4085, Loss D: -0.3696\n",
            "Epoch 259, Loss G: 0.1685, Loss D: -0.0059\n",
            "Epoch 260, Loss G: 0.3934, Loss D: -0.2441\n",
            "Epoch 261, Loss G: 0.1287, Loss D: -0.2967\n",
            "Epoch 262, Loss G: 0.2611, Loss D: 0.1435\n",
            "Epoch 263, Loss G: 0.0582, Loss D: -0.5119\n",
            "Epoch 264, Loss G: 0.4680, Loss D: -0.2299\n",
            "Epoch 265, Loss G: 0.2744, Loss D: 0.2118\n",
            "Epoch 266, Loss G: 0.4472, Loss D: -0.1315\n",
            "Epoch 267, Loss G: 0.1872, Loss D: -0.0293\n",
            "Epoch 268, Loss G: -0.2039, Loss D: -0.2430\n",
            "Epoch 269, Loss G: 0.0983, Loss D: -0.1822\n",
            "Epoch 270, Loss G: 0.3377, Loss D: -0.0260\n",
            "Epoch 271, Loss G: -0.1990, Loss D: 0.0440\n",
            "Epoch 272, Loss G: -0.2900, Loss D: -0.4677\n",
            "Epoch 273, Loss G: 0.1832, Loss D: -0.0604\n",
            "Epoch 274, Loss G: 0.5497, Loss D: -0.0054\n",
            "Epoch 275, Loss G: -0.4591, Loss D: -0.4778\n",
            "Epoch 276, Loss G: -0.7133, Loss D: -0.1694\n",
            "Epoch 277, Loss G: 0.1281, Loss D: -0.3847\n",
            "Epoch 278, Loss G: 0.4632, Loss D: -0.1384\n",
            "Epoch 279, Loss G: 0.1669, Loss D: -0.2971\n",
            "Epoch 280, Loss G: -0.1993, Loss D: -0.0912\n",
            "Epoch 281, Loss G: 0.5136, Loss D: -0.4159\n",
            "Epoch 282, Loss G: 0.2744, Loss D: -0.4652\n",
            "Epoch 283, Loss G: 0.1962, Loss D: 0.1931\n",
            "Epoch 284, Loss G: -0.3108, Loss D: -0.1305\n",
            "Epoch 285, Loss G: 0.1240, Loss D: 0.0526\n",
            "Epoch 286, Loss G: 0.4963, Loss D: -0.4100\n",
            "Epoch 287, Loss G: 0.3272, Loss D: -0.5891\n",
            "Epoch 288, Loss G: 0.1324, Loss D: -0.5312\n",
            "Epoch 289, Loss G: 0.9609, Loss D: -0.1340\n",
            "Epoch 290, Loss G: 0.3571, Loss D: -0.3936\n",
            "Epoch 291, Loss G: 0.2656, Loss D: -0.7114\n",
            "Epoch 292, Loss G: -0.1590, Loss D: -0.0541\n",
            "Epoch 293, Loss G: 0.2037, Loss D: -0.3688\n",
            "Epoch 294, Loss G: 0.3589, Loss D: -0.0589\n",
            "Epoch 295, Loss G: 0.2288, Loss D: -0.2483\n",
            "Epoch 296, Loss G: -0.0249, Loss D: -0.2103\n",
            "Epoch 297, Loss G: 0.2017, Loss D: -0.0763\n",
            "Epoch 298, Loss G: 0.4199, Loss D: -0.0395\n",
            "Epoch 299, Loss G: 0.1167, Loss D: 0.3669\n",
            "Epoch 300, Loss G: -0.3410, Loss D: -0.2284\n",
            "Epoch 301, Loss G: -0.3753, Loss D: -0.3700\n",
            "Epoch 302, Loss G: 0.2260, Loss D: -0.4423\n",
            "Epoch 303, Loss G: 0.7263, Loss D: 0.3458\n",
            "Epoch 304, Loss G: 0.0046, Loss D: -0.4343\n",
            "Epoch 305, Loss G: -0.2692, Loss D: 0.0972\n",
            "Epoch 306, Loss G: -0.1674, Loss D: 0.0919\n",
            "Epoch 307, Loss G: 0.3759, Loss D: -0.5340\n",
            "Epoch 308, Loss G: -0.1245, Loss D: 0.0319\n",
            "Epoch 309, Loss G: -0.2291, Loss D: -0.1337\n",
            "Epoch 310, Loss G: 0.0106, Loss D: -0.4374\n",
            "Epoch 311, Loss G: -0.0864, Loss D: -0.1832\n",
            "Epoch 312, Loss G: -0.0719, Loss D: -0.2809\n",
            "Epoch 313, Loss G: 0.1931, Loss D: -0.1383\n",
            "Epoch 314, Loss G: -0.1861, Loss D: -0.1061\n",
            "Epoch 315, Loss G: 0.1916, Loss D: 0.0234\n",
            "Epoch 316, Loss G: -0.0458, Loss D: -0.2250\n",
            "Epoch 317, Loss G: -0.6305, Loss D: -0.2771\n",
            "Epoch 318, Loss G: -0.0257, Loss D: 0.0095\n",
            "Epoch 319, Loss G: -0.1060, Loss D: 0.2918\n",
            "Epoch 320, Loss G: -0.3509, Loss D: 0.5011\n",
            "Epoch 321, Loss G: -0.1502, Loss D: 0.0447\n",
            "Epoch 322, Loss G: -0.0164, Loss D: 0.0736\n",
            "Epoch 323, Loss G: 0.2289, Loss D: -0.0100\n",
            "Epoch 324, Loss G: -0.1574, Loss D: -0.0982\n",
            "Epoch 325, Loss G: -0.2579, Loss D: -0.3291\n",
            "Epoch 326, Loss G: -0.4630, Loss D: 0.1963\n",
            "Epoch 327, Loss G: -0.1340, Loss D: -0.1552\n",
            "Epoch 328, Loss G: -0.7702, Loss D: -0.2151\n",
            "Epoch 329, Loss G: -0.2383, Loss D: 0.1791\n",
            "Epoch 330, Loss G: -0.0042, Loss D: -0.1871\n",
            "Epoch 331, Loss G: -0.3095, Loss D: 0.6009\n",
            "Epoch 332, Loss G: -0.0372, Loss D: 0.0916\n",
            "Epoch 333, Loss G: -0.0092, Loss D: -0.6176\n",
            "Epoch 334, Loss G: 0.2495, Loss D: -0.0945\n",
            "Epoch 335, Loss G: -0.1487, Loss D: -0.1934\n",
            "Epoch 336, Loss G: 0.1660, Loss D: -0.3533\n",
            "Epoch 337, Loss G: 0.0141, Loss D: -0.0536\n",
            "Epoch 338, Loss G: -0.0157, Loss D: 0.2011\n",
            "Epoch 339, Loss G: -0.0072, Loss D: -0.2948\n",
            "Epoch 340, Loss G: 0.6618, Loss D: -0.2067\n",
            "Epoch 341, Loss G: 0.1646, Loss D: -0.1013\n",
            "Epoch 342, Loss G: 0.1862, Loss D: 0.0923\n",
            "Epoch 343, Loss G: -0.1324, Loss D: -0.3685\n",
            "Epoch 344, Loss G: -0.1555, Loss D: -0.1697\n",
            "Epoch 345, Loss G: 0.6842, Loss D: -0.5631\n",
            "Epoch 346, Loss G: -0.0633, Loss D: -0.1504\n",
            "Epoch 347, Loss G: 0.2196, Loss D: -0.1140\n",
            "Epoch 348, Loss G: 0.0553, Loss D: -0.4209\n",
            "Epoch 349, Loss G: 0.7195, Loss D: 0.3991\n",
            "Epoch 350, Loss G: 0.2903, Loss D: -0.2401\n",
            "Epoch 351, Loss G: 0.0772, Loss D: -0.7318\n",
            "Epoch 352, Loss G: 0.4588, Loss D: -0.2172\n",
            "Epoch 353, Loss G: 0.5779, Loss D: -0.4787\n",
            "Epoch 354, Loss G: 0.3637, Loss D: -0.7146\n",
            "Epoch 355, Loss G: -0.0320, Loss D: 0.0129\n",
            "Epoch 356, Loss G: 0.2391, Loss D: -0.0060\n",
            "Epoch 357, Loss G: 0.3285, Loss D: -0.2637\n",
            "Epoch 358, Loss G: 0.4218, Loss D: -0.6834\n",
            "Epoch 359, Loss G: 0.3127, Loss D: 0.4773\n",
            "Epoch 360, Loss G: 0.2992, Loss D: 0.1402\n",
            "Epoch 361, Loss G: 0.3530, Loss D: 0.1489\n",
            "Epoch 362, Loss G: 0.3963, Loss D: 0.0874\n",
            "Epoch 363, Loss G: 0.1013, Loss D: -0.6393\n",
            "Epoch 364, Loss G: 0.6176, Loss D: 0.3648\n",
            "Epoch 365, Loss G: 0.4425, Loss D: -0.5160\n",
            "Epoch 366, Loss G: -0.2186, Loss D: -0.1458\n",
            "Epoch 367, Loss G: 0.4838, Loss D: -0.1674\n",
            "Epoch 368, Loss G: 0.9005, Loss D: -0.5329\n",
            "Epoch 369, Loss G: -0.2989, Loss D: 0.1584\n",
            "Epoch 370, Loss G: 0.2271, Loss D: -0.1706\n",
            "Epoch 371, Loss G: 0.1970, Loss D: -0.3184\n",
            "Epoch 372, Loss G: 0.7089, Loss D: 0.1626\n",
            "Epoch 373, Loss G: 0.0251, Loss D: -0.1518\n",
            "Epoch 374, Loss G: 0.1093, Loss D: 0.0305\n",
            "Epoch 375, Loss G: -0.5395, Loss D: -0.1738\n",
            "Epoch 376, Loss G: -0.1823, Loss D: -0.0814\n",
            "Epoch 377, Loss G: -0.0553, Loss D: -0.2086\n",
            "Epoch 378, Loss G: 0.5747, Loss D: -0.0487\n",
            "Epoch 379, Loss G: -0.1782, Loss D: -0.3727\n",
            "Epoch 380, Loss G: -0.4835, Loss D: -0.1826\n",
            "Epoch 381, Loss G: 0.1364, Loss D: -0.0063\n",
            "Epoch 382, Loss G: 0.2584, Loss D: -0.1238\n",
            "Epoch 383, Loss G: 0.0648, Loss D: 0.3728\n",
            "Epoch 384, Loss G: 0.2840, Loss D: -0.2454\n",
            "Epoch 385, Loss G: -0.2005, Loss D: -0.3045\n",
            "Epoch 386, Loss G: -0.0075, Loss D: -0.1014\n",
            "Epoch 387, Loss G: 0.5004, Loss D: 0.1792\n",
            "Epoch 388, Loss G: 0.6220, Loss D: 0.0370\n",
            "Epoch 389, Loss G: 0.1118, Loss D: -0.1518\n",
            "Epoch 390, Loss G: 0.0244, Loss D: -0.5682\n",
            "Epoch 391, Loss G: 0.0804, Loss D: 0.0231\n",
            "Epoch 392, Loss G: 0.0440, Loss D: -0.3056\n",
            "Epoch 393, Loss G: 0.4971, Loss D: -0.1453\n",
            "Epoch 394, Loss G: 0.0770, Loss D: -0.2389\n",
            "Epoch 395, Loss G: 0.1125, Loss D: -0.1502\n",
            "Epoch 396, Loss G: -0.0876, Loss D: -0.2365\n",
            "Epoch 397, Loss G: 0.3095, Loss D: 0.1435\n",
            "Epoch 398, Loss G: -0.2429, Loss D: -0.2751\n",
            "Epoch 399, Loss G: 0.0962, Loss D: 0.1606\n",
            "Epoch 400, Loss G: 0.3476, Loss D: -0.3933\n",
            "Epoch 401, Loss G: 0.4059, Loss D: -0.5112\n",
            "Epoch 402, Loss G: -0.0064, Loss D: -0.2596\n",
            "Epoch 403, Loss G: -0.0864, Loss D: 0.2434\n",
            "Epoch 404, Loss G: 0.1209, Loss D: -0.1738\n",
            "Epoch 405, Loss G: 0.1742, Loss D: -0.5059\n",
            "Epoch 406, Loss G: 0.3597, Loss D: 0.1025\n",
            "Epoch 407, Loss G: 0.1560, Loss D: -0.0563\n",
            "Epoch 408, Loss G: 0.3058, Loss D: -0.0567\n",
            "Epoch 409, Loss G: -0.4830, Loss D: 0.3731\n",
            "Epoch 410, Loss G: -0.3464, Loss D: 0.0041\n",
            "Epoch 411, Loss G: 0.0666, Loss D: -0.4506\n",
            "Epoch 412, Loss G: 0.2909, Loss D: -0.4538\n",
            "Epoch 413, Loss G: -0.2020, Loss D: -0.1607\n",
            "Epoch 414, Loss G: -0.3860, Loss D: -0.4700\n",
            "Epoch 415, Loss G: -0.2961, Loss D: -0.0503\n",
            "Epoch 416, Loss G: 0.4609, Loss D: 0.1201\n",
            "Epoch 417, Loss G: 0.0662, Loss D: -0.4631\n",
            "Epoch 418, Loss G: -0.1908, Loss D: 0.1015\n",
            "Epoch 419, Loss G: -0.4354, Loss D: -0.1974\n",
            "Epoch 420, Loss G: -0.1706, Loss D: -0.0123\n",
            "Epoch 421, Loss G: 0.0507, Loss D: -0.0488\n",
            "Epoch 422, Loss G: 0.0820, Loss D: -0.3722\n",
            "Epoch 423, Loss G: 0.0062, Loss D: -0.0463\n",
            "Epoch 424, Loss G: -0.2899, Loss D: -0.5194\n",
            "Epoch 425, Loss G: -0.1201, Loss D: -0.2585\n",
            "Epoch 426, Loss G: 0.3414, Loss D: -0.4914\n",
            "Epoch 427, Loss G: 0.1321, Loss D: -0.1751\n",
            "Epoch 428, Loss G: -0.1367, Loss D: -0.3500\n",
            "Epoch 429, Loss G: -0.6747, Loss D: -0.1799\n",
            "Epoch 430, Loss G: -0.2449, Loss D: -0.2897\n",
            "Epoch 431, Loss G: 0.2901, Loss D: -0.1024\n",
            "Epoch 432, Loss G: 0.2907, Loss D: -0.0447\n",
            "Epoch 433, Loss G: 0.0696, Loss D: -0.0089\n",
            "Epoch 434, Loss G: -0.3973, Loss D: -0.2104\n",
            "Epoch 435, Loss G: -0.1913, Loss D: -0.3158\n",
            "Epoch 436, Loss G: 0.0577, Loss D: -0.1136\n",
            "Epoch 437, Loss G: -0.1912, Loss D: 0.0431\n",
            "Epoch 438, Loss G: 0.3912, Loss D: -0.0417\n",
            "Epoch 439, Loss G: -0.1142, Loss D: 0.1849\n",
            "Epoch 440, Loss G: 0.4695, Loss D: -0.0883\n",
            "Epoch 441, Loss G: 0.9528, Loss D: -0.0211\n",
            "Epoch 442, Loss G: 0.3269, Loss D: -0.0328\n",
            "Epoch 443, Loss G: 0.0013, Loss D: -0.1918\n",
            "Epoch 444, Loss G: -0.0427, Loss D: -0.5328\n",
            "Epoch 445, Loss G: 0.3908, Loss D: -0.6391\n",
            "Epoch 446, Loss G: 0.7694, Loss D: -0.2435\n",
            "Epoch 447, Loss G: 0.7242, Loss D: 0.1540\n",
            "Epoch 448, Loss G: -0.1766, Loss D: -0.2962\n",
            "Epoch 449, Loss G: -0.2372, Loss D: -0.2916\n",
            "Epoch 450, Loss G: 0.3443, Loss D: -0.0969\n",
            "Epoch 451, Loss G: 0.3654, Loss D: -0.2932\n",
            "Epoch 452, Loss G: 0.2048, Loss D: -0.3069\n",
            "Epoch 453, Loss G: 0.0302, Loss D: -0.6791\n",
            "Epoch 454, Loss G: -0.3541, Loss D: -0.3586\n",
            "Epoch 455, Loss G: 0.5106, Loss D: 0.0958\n",
            "Epoch 456, Loss G: -0.0429, Loss D: -0.6297\n",
            "Epoch 457, Loss G: 0.0474, Loss D: 0.1264\n",
            "Epoch 458, Loss G: -0.4323, Loss D: 0.0920\n",
            "Epoch 459, Loss G: -0.0381, Loss D: -0.3898\n",
            "Epoch 460, Loss G: 0.2211, Loss D: -0.1740\n",
            "Epoch 461, Loss G: -0.1001, Loss D: -0.2858\n",
            "Epoch 462, Loss G: -0.4948, Loss D: -0.1502\n",
            "Epoch 463, Loss G: 0.0616, Loss D: -0.3414\n",
            "Epoch 464, Loss G: 0.2359, Loss D: 0.0956\n",
            "Epoch 465, Loss G: 0.2726, Loss D: 0.0686\n",
            "Epoch 466, Loss G: -0.0953, Loss D: -0.2537\n",
            "Epoch 467, Loss G: 0.0954, Loss D: -0.1351\n",
            "Epoch 468, Loss G: 0.1252, Loss D: -0.1336\n",
            "Epoch 469, Loss G: 0.1226, Loss D: -0.2987\n",
            "Epoch 470, Loss G: 0.1748, Loss D: -0.4607\n",
            "Epoch 471, Loss G: 0.2571, Loss D: -0.1967\n",
            "Epoch 472, Loss G: -0.0037, Loss D: -0.3311\n",
            "Epoch 473, Loss G: 0.4553, Loss D: 0.1333\n",
            "Epoch 474, Loss G: 0.4355, Loss D: -0.0846\n",
            "Epoch 475, Loss G: 0.7806, Loss D: -0.3032\n",
            "Epoch 476, Loss G: -0.4658, Loss D: -0.2032\n",
            "Epoch 477, Loss G: -0.4181, Loss D: -0.2033\n",
            "Epoch 478, Loss G: 0.4771, Loss D: -0.4784\n",
            "Epoch 479, Loss G: 0.4342, Loss D: 0.0157\n",
            "Epoch 480, Loss G: -0.4836, Loss D: -0.3213\n",
            "Epoch 481, Loss G: -0.3261, Loss D: -0.3973\n",
            "Epoch 482, Loss G: 0.0465, Loss D: -0.2956\n",
            "Epoch 483, Loss G: 0.1066, Loss D: -0.3954\n",
            "Epoch 484, Loss G: -0.1639, Loss D: -0.2269\n",
            "Epoch 485, Loss G: 0.0578, Loss D: -0.0634\n",
            "Epoch 486, Loss G: -0.4390, Loss D: -0.3702\n",
            "Epoch 487, Loss G: 0.4630, Loss D: -0.1727\n",
            "Epoch 488, Loss G: 0.1722, Loss D: -0.2013\n",
            "Epoch 489, Loss G: -0.0494, Loss D: 0.1073\n",
            "Epoch 490, Loss G: -0.1277, Loss D: -0.1642\n",
            "Epoch 491, Loss G: -0.0618, Loss D: -0.0145\n",
            "Epoch 492, Loss G: 0.1343, Loss D: 0.0310\n",
            "Epoch 493, Loss G: 0.4239, Loss D: 0.0120\n",
            "Epoch 494, Loss G: 0.2753, Loss D: -0.3410\n",
            "Epoch 495, Loss G: -0.0250, Loss D: 0.1624\n",
            "Epoch 496, Loss G: -0.3777, Loss D: 0.0965\n",
            "Epoch 497, Loss G: -0.2245, Loss D: -0.4065\n",
            "Epoch 498, Loss G: 0.3215, Loss D: 0.0375\n",
            "Epoch 499, Loss G: 0.4946, Loss D: 0.1512\n",
            "Epoch 500, Loss G: 0.0171, Loss D: 0.1466\n",
            "Epoch 501, Loss G: -0.0204, Loss D: 0.1261\n",
            "Epoch 502, Loss G: 0.1027, Loss D: -0.3169\n",
            "Epoch 503, Loss G: 0.6156, Loss D: -0.1984\n",
            "Epoch 504, Loss G: -0.0851, Loss D: -0.0029\n",
            "Epoch 505, Loss G: -0.3303, Loss D: -0.2296\n",
            "Epoch 506, Loss G: 0.2983, Loss D: 0.1175\n",
            "Epoch 507, Loss G: -0.3479, Loss D: -0.5095\n",
            "Epoch 508, Loss G: -0.0017, Loss D: 0.0104\n",
            "Epoch 509, Loss G: 0.4391, Loss D: -0.3482\n",
            "Epoch 510, Loss G: 0.2603, Loss D: -0.3221\n",
            "Epoch 511, Loss G: -0.3045, Loss D: -0.2000\n",
            "Epoch 512, Loss G: -0.2809, Loss D: 0.2055\n",
            "Epoch 513, Loss G: -0.1056, Loss D: -0.0143\n",
            "Epoch 514, Loss G: 0.2578, Loss D: 0.0800\n",
            "Epoch 515, Loss G: -0.1671, Loss D: -0.5226\n",
            "Epoch 516, Loss G: -0.0694, Loss D: -0.3405\n",
            "Epoch 517, Loss G: 0.1222, Loss D: 0.1127\n",
            "Epoch 518, Loss G: 0.0291, Loss D: -0.1799\n",
            "Epoch 519, Loss G: 0.3169, Loss D: -0.2347\n",
            "Epoch 520, Loss G: -0.1065, Loss D: 0.1342\n",
            "Epoch 521, Loss G: 0.1736, Loss D: -0.1594\n",
            "Epoch 522, Loss G: 0.1621, Loss D: -0.1292\n",
            "Epoch 523, Loss G: 0.6309, Loss D: -0.1509\n",
            "Epoch 524, Loss G: -0.1159, Loss D: 0.1467\n",
            "Epoch 525, Loss G: -0.2072, Loss D: -0.1835\n",
            "Epoch 526, Loss G: 0.0941, Loss D: -0.7338\n",
            "Epoch 527, Loss G: -0.4255, Loss D: -0.3620\n",
            "Epoch 528, Loss G: 0.2737, Loss D: -0.0142\n",
            "Epoch 529, Loss G: 0.2036, Loss D: 0.2108\n",
            "Epoch 530, Loss G: 0.0050, Loss D: -0.1814\n",
            "Epoch 531, Loss G: 0.0063, Loss D: -0.4453\n",
            "Epoch 532, Loss G: -0.0616, Loss D: 0.1288\n",
            "Epoch 533, Loss G: 0.2055, Loss D: -0.0462\n",
            "Epoch 534, Loss G: 0.1801, Loss D: -0.2964\n",
            "Epoch 535, Loss G: -0.1055, Loss D: -0.1384\n",
            "Epoch 536, Loss G: -0.1876, Loss D: -0.2943\n",
            "Epoch 537, Loss G: 0.3610, Loss D: 0.2866\n",
            "Epoch 538, Loss G: 0.4584, Loss D: 0.2022\n",
            "Epoch 539, Loss G: 0.3457, Loss D: -0.2981\n",
            "Epoch 540, Loss G: 0.0281, Loss D: -0.1814\n",
            "Epoch 541, Loss G: -0.1039, Loss D: -0.4235\n",
            "Epoch 542, Loss G: 0.2034, Loss D: -0.6593\n",
            "Epoch 543, Loss G: 0.1273, Loss D: -0.3912\n",
            "Epoch 544, Loss G: 0.1825, Loss D: 0.0608\n",
            "Epoch 545, Loss G: 0.1482, Loss D: -0.4626\n",
            "Epoch 546, Loss G: 0.1124, Loss D: -0.3810\n",
            "Epoch 547, Loss G: 0.0147, Loss D: -0.4770\n",
            "Epoch 548, Loss G: 0.3222, Loss D: 0.1448\n",
            "Epoch 549, Loss G: 0.1049, Loss D: 0.1048\n",
            "Epoch 550, Loss G: 0.1728, Loss D: -0.1271\n",
            "Epoch 551, Loss G: 0.1097, Loss D: -0.0191\n",
            "Epoch 552, Loss G: -0.2819, Loss D: -0.0352\n",
            "Epoch 553, Loss G: -0.4121, Loss D: -0.1833\n",
            "Epoch 554, Loss G: 0.0196, Loss D: 0.0678\n",
            "Epoch 555, Loss G: 0.4140, Loss D: -0.1796\n",
            "Epoch 556, Loss G: -0.0727, Loss D: 0.0099\n",
            "Epoch 557, Loss G: -0.2306, Loss D: -0.3137\n",
            "Epoch 558, Loss G: -0.4287, Loss D: -0.1549\n",
            "Epoch 559, Loss G: -0.0731, Loss D: -0.2030\n",
            "Epoch 560, Loss G: -0.3740, Loss D: -0.5490\n",
            "Epoch 561, Loss G: 0.1090, Loss D: 0.1507\n",
            "Epoch 562, Loss G: -0.0291, Loss D: -0.0797\n",
            "Epoch 563, Loss G: -0.0733, Loss D: -0.5442\n",
            "Epoch 564, Loss G: 0.1366, Loss D: -0.3281\n",
            "Epoch 565, Loss G: -0.0078, Loss D: -0.0385\n",
            "Epoch 566, Loss G: -0.0281, Loss D: -0.3410\n",
            "Epoch 567, Loss G: -0.2061, Loss D: 0.1749\n",
            "Epoch 568, Loss G: 0.1504, Loss D: -0.3700\n",
            "Epoch 569, Loss G: 0.3252, Loss D: 0.1022\n",
            "Epoch 570, Loss G: 0.3645, Loss D: -0.1494\n",
            "Epoch 571, Loss G: 0.0346, Loss D: -0.5638\n",
            "Epoch 572, Loss G: 0.2663, Loss D: -0.0222\n",
            "Epoch 573, Loss G: -0.1828, Loss D: -0.4738\n",
            "Epoch 574, Loss G: 0.0199, Loss D: -0.4388\n",
            "Epoch 575, Loss G: 0.0050, Loss D: 0.2932\n",
            "Epoch 576, Loss G: 0.4147, Loss D: -0.1459\n",
            "Epoch 577, Loss G: -0.2554, Loss D: -0.0966\n",
            "Epoch 578, Loss G: 0.1496, Loss D: -0.4022\n",
            "Epoch 579, Loss G: 0.1512, Loss D: -0.5074\n",
            "Epoch 580, Loss G: 0.6661, Loss D: -0.4396\n",
            "Epoch 581, Loss G: 0.2841, Loss D: 0.2302\n",
            "Epoch 582, Loss G: -0.2732, Loss D: -0.1344\n",
            "Epoch 583, Loss G: -0.1618, Loss D: -0.2614\n",
            "Epoch 584, Loss G: -0.2971, Loss D: -0.1682\n",
            "Epoch 585, Loss G: 0.1625, Loss D: -0.2896\n",
            "Epoch 586, Loss G: 0.2301, Loss D: 0.0909\n",
            "Epoch 587, Loss G: 0.0366, Loss D: -0.1614\n",
            "Epoch 588, Loss G: -0.1202, Loss D: 0.0161\n",
            "Epoch 589, Loss G: 0.2285, Loss D: -0.3071\n",
            "Epoch 590, Loss G: 0.2316, Loss D: 0.0438\n",
            "Epoch 591, Loss G: -0.0924, Loss D: -0.0246\n",
            "Epoch 592, Loss G: -0.3089, Loss D: -0.4245\n",
            "Epoch 593, Loss G: -0.2566, Loss D: -0.3241\n",
            "Epoch 594, Loss G: -0.2289, Loss D: -0.1824\n",
            "Epoch 595, Loss G: -0.3552, Loss D: -0.4754\n",
            "Epoch 596, Loss G: -0.3616, Loss D: -0.1720\n",
            "Epoch 597, Loss G: -0.1749, Loss D: -0.2707\n",
            "Epoch 598, Loss G: 0.2946, Loss D: -0.3747\n",
            "Epoch 599, Loss G: -0.1722, Loss D: -0.2880\n",
            "Epoch 600, Loss G: -0.6307, Loss D: -0.2554\n",
            "Epoch 601, Loss G: -0.1783, Loss D: -0.1158\n",
            "Epoch 602, Loss G: 0.2759, Loss D: -0.1298\n",
            "Epoch 603, Loss G: 0.1641, Loss D: -0.2032\n",
            "Epoch 604, Loss G: -0.3008, Loss D: 0.0581\n",
            "Epoch 605, Loss G: -0.1348, Loss D: -0.2165\n",
            "Epoch 606, Loss G: 0.3260, Loss D: -0.6243\n",
            "Epoch 607, Loss G: -0.0173, Loss D: -0.3396\n",
            "Epoch 608, Loss G: 0.0180, Loss D: -0.3006\n",
            "Epoch 609, Loss G: 0.0571, Loss D: 0.2543\n",
            "Epoch 610, Loss G: -0.1103, Loss D: -0.2104\n",
            "Epoch 611, Loss G: 0.1785, Loss D: -0.3700\n",
            "Epoch 612, Loss G: -0.1149, Loss D: -0.4854\n",
            "Epoch 613, Loss G: -0.0021, Loss D: -0.4609\n",
            "Epoch 614, Loss G: -0.0772, Loss D: 0.0376\n",
            "Epoch 615, Loss G: -0.1325, Loss D: 0.1607\n",
            "Epoch 616, Loss G: 0.2640, Loss D: -0.0611\n",
            "Epoch 617, Loss G: 0.3416, Loss D: -0.1394\n",
            "Epoch 618, Loss G: 0.0535, Loss D: -0.3431\n",
            "Epoch 619, Loss G: 0.5150, Loss D: -0.4434\n",
            "Epoch 620, Loss G: 0.2832, Loss D: -0.1065\n",
            "Epoch 621, Loss G: 0.3441, Loss D: 0.0557\n",
            "Epoch 622, Loss G: 0.3329, Loss D: -0.0102\n",
            "Epoch 623, Loss G: 0.4648, Loss D: -0.0931\n",
            "Epoch 624, Loss G: 0.6814, Loss D: 0.1860\n",
            "Epoch 625, Loss G: -0.1511, Loss D: -0.0220\n",
            "Epoch 626, Loss G: 0.3113, Loss D: -0.3561\n",
            "Epoch 627, Loss G: 0.0180, Loss D: 0.0969\n",
            "Epoch 628, Loss G: 0.2428, Loss D: -0.3331\n",
            "Epoch 629, Loss G: 0.6655, Loss D: 0.0867\n",
            "Epoch 630, Loss G: 0.2853, Loss D: -0.0795\n",
            "Epoch 631, Loss G: -0.0406, Loss D: 0.0932\n",
            "Epoch 632, Loss G: -0.1877, Loss D: -0.3098\n",
            "Epoch 633, Loss G: 0.1171, Loss D: 0.1289\n",
            "Epoch 634, Loss G: 0.5957, Loss D: 0.0578\n",
            "Epoch 635, Loss G: 0.2258, Loss D: -0.3820\n",
            "Epoch 636, Loss G: -0.2270, Loss D: -0.2651\n",
            "Epoch 637, Loss G: 0.2556, Loss D: 0.0960\n",
            "Epoch 638, Loss G: 0.1265, Loss D: -0.3976\n",
            "Epoch 639, Loss G: -0.3261, Loss D: -0.2508\n",
            "Epoch 640, Loss G: 0.0784, Loss D: -0.3737\n",
            "Epoch 641, Loss G: 0.4533, Loss D: 0.2783\n",
            "Epoch 642, Loss G: 0.1130, Loss D: -0.2131\n",
            "Epoch 643, Loss G: -0.0571, Loss D: -0.2357\n",
            "Epoch 644, Loss G: -0.1880, Loss D: -0.3172\n",
            "Epoch 645, Loss G: -0.5988, Loss D: -0.3529\n",
            "Epoch 646, Loss G: 0.3977, Loss D: -0.1477\n",
            "Epoch 647, Loss G: 0.3971, Loss D: -0.1934\n",
            "Epoch 648, Loss G: 0.3600, Loss D: -0.3851\n",
            "Epoch 649, Loss G: 0.1169, Loss D: -0.3247\n",
            "Epoch 650, Loss G: -0.1494, Loss D: -0.2487\n",
            "Epoch 651, Loss G: -0.1381, Loss D: -0.4794\n",
            "Epoch 652, Loss G: 0.5930, Loss D: -0.0912\n",
            "Epoch 653, Loss G: 0.0006, Loss D: -0.2174\n",
            "Epoch 654, Loss G: -0.1931, Loss D: -0.4076\n",
            "Epoch 655, Loss G: 0.2610, Loss D: -0.2364\n",
            "Epoch 656, Loss G: -0.1741, Loss D: -0.3295\n",
            "Epoch 657, Loss G: -0.1935, Loss D: -0.0404\n",
            "Epoch 658, Loss G: 0.2461, Loss D: -0.4521\n",
            "Epoch 659, Loss G: 0.3217, Loss D: 0.0791\n",
            "Epoch 660, Loss G: -0.2339, Loss D: -0.3986\n",
            "Epoch 661, Loss G: 0.2577, Loss D: -0.2840\n",
            "Epoch 662, Loss G: 0.7044, Loss D: -0.2751\n",
            "Epoch 663, Loss G: -0.2312, Loss D: -0.2334\n",
            "Epoch 664, Loss G: -0.4860, Loss D: -0.2874\n",
            "Epoch 665, Loss G: -0.2760, Loss D: 0.3642\n",
            "Epoch 666, Loss G: -0.1800, Loss D: -0.0244\n",
            "Epoch 667, Loss G: -0.3252, Loss D: -0.7731\n",
            "Epoch 668, Loss G: -0.0194, Loss D: -0.5299\n",
            "Epoch 669, Loss G: 0.3763, Loss D: -0.4956\n",
            "Epoch 670, Loss G: -0.2094, Loss D: 0.0401\n",
            "Epoch 671, Loss G: -0.0390, Loss D: -0.4138\n",
            "Epoch 672, Loss G: -0.0585, Loss D: -0.6352\n",
            "Epoch 673, Loss G: 0.0898, Loss D: 0.0045\n",
            "Epoch 674, Loss G: -0.6548, Loss D: -0.5307\n",
            "Epoch 675, Loss G: 0.2948, Loss D: -0.2922\n",
            "Epoch 676, Loss G: 0.2834, Loss D: 0.2060\n",
            "Epoch 677, Loss G: -0.1569, Loss D: 0.3723\n",
            "Epoch 678, Loss G: -0.1930, Loss D: 0.0753\n",
            "Epoch 679, Loss G: -0.0875, Loss D: -0.2201\n",
            "Epoch 680, Loss G: 0.0333, Loss D: 0.0248\n",
            "Epoch 681, Loss G: 0.3166, Loss D: -0.1587\n",
            "Epoch 682, Loss G: -0.2990, Loss D: -0.5458\n",
            "Epoch 683, Loss G: -0.1139, Loss D: -0.1185\n",
            "Epoch 684, Loss G: 0.4823, Loss D: -0.1325\n",
            "Epoch 685, Loss G: 0.2961, Loss D: 0.1245\n",
            "Epoch 686, Loss G: 0.2079, Loss D: -0.4050\n",
            "Epoch 687, Loss G: 0.3197, Loss D: -0.5997\n",
            "Epoch 688, Loss G: 0.1727, Loss D: -0.2212\n",
            "Epoch 689, Loss G: -0.3651, Loss D: -0.1733\n",
            "Epoch 690, Loss G: -0.2802, Loss D: 0.2514\n",
            "Epoch 691, Loss G: 0.0848, Loss D: 0.0880\n",
            "Epoch 692, Loss G: -0.4977, Loss D: 0.0798\n",
            "Epoch 693, Loss G: -0.2651, Loss D: 0.0414\n",
            "Epoch 694, Loss G: 0.1816, Loss D: -0.0745\n",
            "Epoch 695, Loss G: -0.4940, Loss D: -0.1432\n",
            "Epoch 696, Loss G: -0.5183, Loss D: 0.1595\n",
            "Epoch 697, Loss G: -0.2505, Loss D: -0.5397\n",
            "Epoch 698, Loss G: -0.3601, Loss D: -0.1818\n",
            "Epoch 699, Loss G: -0.3974, Loss D: -0.3853\n",
            "Epoch 700, Loss G: -0.0185, Loss D: 0.1140\n",
            "Epoch 701, Loss G: 0.4224, Loss D: -0.3963\n",
            "Epoch 702, Loss G: 0.0445, Loss D: -0.0463\n",
            "Epoch 703, Loss G: -0.0310, Loss D: -0.7077\n",
            "Epoch 704, Loss G: -0.0585, Loss D: -0.2989\n",
            "Epoch 705, Loss G: -0.0835, Loss D: -0.3184\n",
            "Epoch 706, Loss G: 0.5016, Loss D: -0.3426\n",
            "Epoch 707, Loss G: 0.0547, Loss D: -0.2384\n",
            "Epoch 708, Loss G: 0.4614, Loss D: -0.1433\n",
            "Epoch 709, Loss G: 0.2242, Loss D: -0.3641\n",
            "Epoch 710, Loss G: 0.1725, Loss D: 0.1111\n",
            "Epoch 711, Loss G: 0.2676, Loss D: -0.1242\n",
            "Epoch 712, Loss G: 0.1113, Loss D: -0.5110\n",
            "Epoch 713, Loss G: 0.2204, Loss D: -0.3334\n",
            "Epoch 714, Loss G: 0.0522, Loss D: -0.5982\n",
            "Epoch 715, Loss G: -0.3288, Loss D: -0.4135\n",
            "Epoch 716, Loss G: 0.1066, Loss D: -0.2613\n",
            "Epoch 717, Loss G: -0.4858, Loss D: -0.4412\n",
            "Epoch 718, Loss G: 0.0713, Loss D: -0.0240\n",
            "Epoch 719, Loss G: 0.0523, Loss D: 0.0192\n",
            "Epoch 720, Loss G: -0.0076, Loss D: 0.0830\n",
            "Epoch 721, Loss G: 0.7026, Loss D: -0.0898\n",
            "Epoch 722, Loss G: 0.3304, Loss D: -0.4844\n",
            "Epoch 723, Loss G: -0.0217, Loss D: 0.2059\n",
            "Epoch 724, Loss G: -0.1538, Loss D: -0.1617\n",
            "Epoch 725, Loss G: 0.2407, Loss D: -0.2576\n",
            "Epoch 726, Loss G: 0.8963, Loss D: -0.0369\n",
            "Epoch 727, Loss G: 0.6217, Loss D: -0.5303\n",
            "Epoch 728, Loss G: -0.0479, Loss D: 0.1024\n",
            "Epoch 729, Loss G: -0.1286, Loss D: -0.0191\n",
            "Epoch 730, Loss G: 0.5122, Loss D: -0.2549\n",
            "Epoch 731, Loss G: -0.0160, Loss D: -0.0808\n",
            "Epoch 732, Loss G: 0.3518, Loss D: -0.1196\n",
            "Epoch 733, Loss G: 0.3275, Loss D: -0.3514\n",
            "Epoch 734, Loss G: 0.2606, Loss D: -0.2472\n",
            "Epoch 735, Loss G: 0.8524, Loss D: -0.0722\n",
            "Epoch 736, Loss G: 0.2139, Loss D: -0.1265\n",
            "Epoch 737, Loss G: 0.0518, Loss D: -0.2635\n",
            "Epoch 738, Loss G: -0.2197, Loss D: -0.3527\n",
            "Epoch 739, Loss G: 0.7137, Loss D: -0.1694\n",
            "Epoch 740, Loss G: 0.6742, Loss D: -0.2087\n",
            "Epoch 741, Loss G: 0.7199, Loss D: -0.4688\n",
            "Epoch 742, Loss G: 0.2754, Loss D: -0.3062\n",
            "Epoch 743, Loss G: 0.4690, Loss D: -0.0096\n",
            "Epoch 744, Loss G: 0.2020, Loss D: -0.1893\n",
            "Epoch 745, Loss G: 0.4856, Loss D: -0.2394\n",
            "Epoch 746, Loss G: 0.2533, Loss D: -0.1002\n",
            "Epoch 747, Loss G: -0.0466, Loss D: 0.0725\n",
            "Epoch 748, Loss G: -0.0145, Loss D: 0.0528\n",
            "Epoch 749, Loss G: 0.1724, Loss D: -0.4711\n",
            "Epoch 750, Loss G: -0.0438, Loss D: -0.1731\n",
            "Epoch 751, Loss G: -0.2106, Loss D: -0.2886\n",
            "Epoch 752, Loss G: -0.3927, Loss D: -0.1079\n",
            "Epoch 753, Loss G: 0.2864, Loss D: -0.0258\n",
            "Epoch 754, Loss G: 0.0523, Loss D: -0.1631\n",
            "Epoch 755, Loss G: -0.1345, Loss D: 0.0051\n",
            "Epoch 756, Loss G: -0.0811, Loss D: -0.1591\n",
            "Epoch 757, Loss G: -0.1856, Loss D: -0.4452\n",
            "Epoch 758, Loss G: 0.2590, Loss D: -0.2357\n",
            "Epoch 759, Loss G: 0.3396, Loss D: -0.2830\n",
            "Epoch 760, Loss G: -0.2752, Loss D: -0.2481\n",
            "Epoch 761, Loss G: -0.3802, Loss D: -0.2740\n",
            "Epoch 762, Loss G: 0.2095, Loss D: -0.5715\n",
            "Epoch 763, Loss G: 0.0771, Loss D: 0.0119\n",
            "Epoch 764, Loss G: 0.1486, Loss D: -0.4883\n",
            "Epoch 765, Loss G: -0.0156, Loss D: -0.2461\n",
            "Epoch 766, Loss G: 0.2135, Loss D: -0.4570\n",
            "Epoch 767, Loss G: -0.1729, Loss D: 0.1123\n",
            "Epoch 768, Loss G: -0.0063, Loss D: -0.1357\n",
            "Epoch 769, Loss G: 0.4140, Loss D: -0.4285\n",
            "Epoch 770, Loss G: 0.1083, Loss D: 0.0532\n",
            "Epoch 771, Loss G: -0.2167, Loss D: -0.3546\n",
            "Epoch 772, Loss G: -0.0882, Loss D: -0.0289\n",
            "Epoch 773, Loss G: 0.0124, Loss D: -0.3364\n",
            "Epoch 774, Loss G: 0.2405, Loss D: -0.2873\n",
            "Epoch 775, Loss G: -0.6570, Loss D: -0.2474\n",
            "Epoch 776, Loss G: -0.1841, Loss D: -0.1725\n",
            "Epoch 777, Loss G: -0.0766, Loss D: -0.0638\n",
            "Epoch 778, Loss G: 0.1089, Loss D: -0.0215\n",
            "Epoch 779, Loss G: 0.1593, Loss D: -0.1046\n",
            "Epoch 780, Loss G: 0.0158, Loss D: -0.6731\n",
            "Epoch 781, Loss G: 0.1615, Loss D: 0.0854\n",
            "Epoch 782, Loss G: 0.1961, Loss D: -0.4347\n",
            "Epoch 783, Loss G: 0.2499, Loss D: 0.0480\n",
            "Epoch 784, Loss G: 0.0410, Loss D: -0.4856\n",
            "Epoch 785, Loss G: 0.1969, Loss D: -0.3800\n",
            "Epoch 786, Loss G: 0.6974, Loss D: -0.1921\n",
            "Epoch 787, Loss G: 0.1946, Loss D: -0.5139\n",
            "Epoch 788, Loss G: 0.0966, Loss D: -0.0114\n",
            "Epoch 789, Loss G: 0.0259, Loss D: -0.5454\n",
            "Epoch 790, Loss G: 0.1252, Loss D: -0.7062\n",
            "Epoch 791, Loss G: -0.2868, Loss D: 0.0503\n",
            "Epoch 792, Loss G: -0.1057, Loss D: 0.1808\n",
            "Epoch 793, Loss G: 0.3627, Loss D: -0.1965\n",
            "Epoch 794, Loss G: 0.4321, Loss D: -0.3674\n",
            "Epoch 795, Loss G: -0.0221, Loss D: 0.5164\n",
            "Epoch 796, Loss G: -0.0355, Loss D: -0.1143\n",
            "Epoch 797, Loss G: -0.0342, Loss D: -0.5198\n",
            "Epoch 798, Loss G: 0.2678, Loss D: -0.2912\n",
            "Epoch 799, Loss G: -0.1279, Loss D: -0.9146\n",
            "Epoch 800, Loss G: 0.3333, Loss D: -0.3398\n",
            "Epoch 801, Loss G: 0.1678, Loss D: -0.2142\n",
            "Epoch 802, Loss G: 0.7856, Loss D: 0.0288\n",
            "Epoch 803, Loss G: -0.0697, Loss D: -0.5603\n",
            "Epoch 804, Loss G: 0.0724, Loss D: -0.2654\n",
            "Epoch 805, Loss G: 0.3376, Loss D: -0.0781\n",
            "Epoch 806, Loss G: 0.0465, Loss D: -0.1936\n",
            "Epoch 807, Loss G: 0.2471, Loss D: 0.2156\n",
            "Epoch 808, Loss G: 0.3739, Loss D: 0.1924\n",
            "Epoch 809, Loss G: 0.5598, Loss D: -0.1078\n",
            "Epoch 810, Loss G: -0.1334, Loss D: -0.2032\n",
            "Epoch 811, Loss G: -0.2425, Loss D: -0.0268\n",
            "Epoch 812, Loss G: 0.3448, Loss D: -0.3211\n",
            "Epoch 813, Loss G: -0.0104, Loss D: 0.1175\n",
            "Epoch 814, Loss G: -0.2705, Loss D: -0.3813\n",
            "Epoch 815, Loss G: 0.5126, Loss D: -0.5541\n",
            "Epoch 816, Loss G: -0.1070, Loss D: -0.2413\n",
            "Epoch 817, Loss G: -0.0317, Loss D: 0.1391\n",
            "Epoch 818, Loss G: -0.1282, Loss D: -0.1322\n",
            "Epoch 819, Loss G: -0.1588, Loss D: -0.6120\n",
            "Epoch 820, Loss G: 0.0453, Loss D: 0.0052\n",
            "Epoch 821, Loss G: -0.5218, Loss D: -0.1757\n",
            "Epoch 822, Loss G: 0.2428, Loss D: -0.3645\n",
            "Epoch 823, Loss G: 0.0535, Loss D: 0.0464\n",
            "Epoch 824, Loss G: 0.0520, Loss D: 0.0026\n",
            "Epoch 825, Loss G: 0.2060, Loss D: -0.5507\n",
            "Epoch 826, Loss G: 0.3003, Loss D: -0.0322\n",
            "Epoch 827, Loss G: -0.4747, Loss D: 0.0017\n",
            "Epoch 828, Loss G: 0.2080, Loss D: -0.5299\n",
            "Epoch 829, Loss G: -0.2348, Loss D: 0.2163\n",
            "Epoch 830, Loss G: -0.1527, Loss D: -0.3698\n",
            "Epoch 831, Loss G: -0.3248, Loss D: -0.3352\n",
            "Epoch 832, Loss G: -0.3595, Loss D: -0.1481\n",
            "Epoch 833, Loss G: -0.4622, Loss D: -0.0289\n",
            "Epoch 834, Loss G: 0.0598, Loss D: -0.1793\n",
            "Epoch 835, Loss G: -0.6021, Loss D: 0.0849\n",
            "Epoch 836, Loss G: 0.3808, Loss D: -0.2894\n",
            "Epoch 837, Loss G: 0.1232, Loss D: 0.0903\n",
            "Epoch 838, Loss G: -0.1679, Loss D: -0.1451\n",
            "Epoch 839, Loss G: -0.3000, Loss D: -0.1326\n",
            "Epoch 840, Loss G: -0.1177, Loss D: -0.2470\n",
            "Epoch 841, Loss G: -0.1027, Loss D: -0.6623\n",
            "Epoch 842, Loss G: 0.2717, Loss D: -0.1138\n",
            "Epoch 843, Loss G: -0.0466, Loss D: -0.3834\n",
            "Epoch 844, Loss G: 0.2063, Loss D: -0.3262\n",
            "Epoch 845, Loss G: -0.3176, Loss D: -0.1154\n",
            "Epoch 846, Loss G: 0.1564, Loss D: -0.6787\n",
            "Epoch 847, Loss G: 0.1385, Loss D: 0.3440\n",
            "Epoch 848, Loss G: -0.1676, Loss D: 0.0155\n",
            "Epoch 849, Loss G: 0.4306, Loss D: -0.3529\n",
            "Epoch 850, Loss G: 0.1326, Loss D: -0.9451\n",
            "Epoch 851, Loss G: -0.0587, Loss D: -0.2551\n",
            "Epoch 852, Loss G: 0.3665, Loss D: -0.3316\n",
            "Epoch 853, Loss G: -0.0736, Loss D: -0.1850\n",
            "Epoch 854, Loss G: 0.2533, Loss D: -0.1857\n",
            "Epoch 855, Loss G: 0.3541, Loss D: -0.1083\n",
            "Epoch 856, Loss G: 0.1995, Loss D: 0.0240\n",
            "Epoch 857, Loss G: 0.3464, Loss D: 0.0801\n",
            "Epoch 858, Loss G: -0.2676, Loss D: -0.1760\n",
            "Epoch 859, Loss G: 0.0326, Loss D: -0.2717\n",
            "Epoch 860, Loss G: 0.0948, Loss D: -0.1630\n",
            "Epoch 861, Loss G: -0.2835, Loss D: -0.3905\n",
            "Epoch 862, Loss G: 0.0805, Loss D: -0.4228\n",
            "Epoch 863, Loss G: 0.3133, Loss D: -0.4125\n",
            "Epoch 864, Loss G: 0.1920, Loss D: -0.3721\n",
            "Epoch 865, Loss G: 0.2240, Loss D: -0.3070\n",
            "Epoch 866, Loss G: 0.0550, Loss D: -0.0314\n",
            "Epoch 867, Loss G: -0.1204, Loss D: -0.2503\n",
            "Epoch 868, Loss G: -0.1746, Loss D: -0.1964\n",
            "Epoch 869, Loss G: 0.2234, Loss D: -0.0735\n",
            "Epoch 870, Loss G: 0.3109, Loss D: -0.1933\n",
            "Epoch 871, Loss G: 0.6415, Loss D: -0.5128\n",
            "Epoch 872, Loss G: 0.2796, Loss D: -0.1163\n",
            "Epoch 873, Loss G: 0.2657, Loss D: 0.0586\n",
            "Epoch 874, Loss G: -0.0469, Loss D: -0.1001\n",
            "Epoch 875, Loss G: -0.1803, Loss D: -0.5523\n",
            "Epoch 876, Loss G: 0.0448, Loss D: -0.0977\n",
            "Epoch 877, Loss G: 0.1226, Loss D: -0.3889\n",
            "Epoch 878, Loss G: -0.1897, Loss D: -0.3756\n",
            "Epoch 879, Loss G: 0.0041, Loss D: -0.4379\n",
            "Epoch 880, Loss G: 0.0867, Loss D: 0.0851\n",
            "Epoch 881, Loss G: 0.0893, Loss D: -0.1351\n",
            "Epoch 882, Loss G: 0.1007, Loss D: -0.1959\n",
            "Epoch 883, Loss G: -0.3138, Loss D: -0.0586\n",
            "Epoch 884, Loss G: 0.0985, Loss D: -0.0766\n",
            "Epoch 885, Loss G: -0.0355, Loss D: -0.4936\n",
            "Epoch 886, Loss G: 0.0558, Loss D: -0.2374\n",
            "Epoch 887, Loss G: 0.9275, Loss D: 0.0080\n",
            "Epoch 888, Loss G: -0.0796, Loss D: -0.5330\n",
            "Epoch 889, Loss G: -0.1671, Loss D: -0.4584\n",
            "Epoch 890, Loss G: 0.2893, Loss D: -0.0930\n",
            "Epoch 891, Loss G: -0.0098, Loss D: 0.0725\n",
            "Epoch 892, Loss G: -0.1605, Loss D: -0.1200\n",
            "Epoch 893, Loss G: -0.2013, Loss D: -0.0543\n",
            "Epoch 894, Loss G: -0.2680, Loss D: -0.6571\n",
            "Epoch 895, Loss G: -0.4220, Loss D: 0.5402\n",
            "Epoch 896, Loss G: -0.0351, Loss D: -0.2513\n",
            "Epoch 897, Loss G: 0.2554, Loss D: -0.3841\n",
            "Epoch 898, Loss G: -0.2134, Loss D: -0.0438\n",
            "Epoch 899, Loss G: -0.2738, Loss D: -0.1827\n",
            "Epoch 900, Loss G: 0.0423, Loss D: -0.4111\n",
            "Epoch 901, Loss G: -0.2151, Loss D: -0.2543\n",
            "Epoch 902, Loss G: -0.6175, Loss D: -0.2362\n",
            "Epoch 903, Loss G: -0.2598, Loss D: 0.0476\n",
            "Epoch 904, Loss G: -0.0157, Loss D: -0.1525\n",
            "Epoch 905, Loss G: 0.0356, Loss D: -0.1353\n",
            "Epoch 906, Loss G: -0.1905, Loss D: -0.3059\n",
            "Epoch 907, Loss G: 0.0142, Loss D: 0.1148\n",
            "Epoch 908, Loss G: 0.1947, Loss D: -0.1730\n",
            "Epoch 909, Loss G: 0.1751, Loss D: -0.3007\n",
            "Epoch 910, Loss G: -0.0978, Loss D: -0.1806\n",
            "Epoch 911, Loss G: -0.1520, Loss D: -0.1797\n",
            "Epoch 912, Loss G: -0.0107, Loss D: -0.3753\n",
            "Epoch 913, Loss G: 0.0900, Loss D: -0.5002\n",
            "Epoch 914, Loss G: -0.0953, Loss D: -0.0311\n",
            "Epoch 915, Loss G: -0.0784, Loss D: -0.3478\n",
            "Epoch 916, Loss G: 0.3304, Loss D: 0.0802\n",
            "Epoch 917, Loss G: 0.1315, Loss D: -0.7890\n",
            "Epoch 918, Loss G: -0.1382, Loss D: -0.5882\n",
            "Epoch 919, Loss G: -0.1864, Loss D: -0.4886\n",
            "Epoch 920, Loss G: -0.0610, Loss D: -0.3056\n",
            "Epoch 921, Loss G: 0.1029, Loss D: -0.3112\n",
            "Epoch 922, Loss G: -0.0077, Loss D: -0.3911\n",
            "Epoch 923, Loss G: -0.0917, Loss D: -0.2882\n",
            "Epoch 924, Loss G: -0.1937, Loss D: -0.1586\n",
            "Epoch 925, Loss G: -0.4685, Loss D: 0.0437\n",
            "Epoch 926, Loss G: -0.2195, Loss D: 0.0111\n",
            "Epoch 927, Loss G: -0.3570, Loss D: 0.4584\n",
            "Epoch 928, Loss G: -0.2048, Loss D: -0.5305\n",
            "Epoch 929, Loss G: 0.0402, Loss D: -0.5286\n",
            "Epoch 930, Loss G: -0.2440, Loss D: -0.2633\n",
            "Epoch 931, Loss G: 0.5165, Loss D: -0.0209\n",
            "Epoch 932, Loss G: 0.3915, Loss D: -0.3439\n",
            "Epoch 933, Loss G: -0.2537, Loss D: -0.0224\n",
            "Epoch 934, Loss G: 0.1247, Loss D: 0.0885\n",
            "Epoch 935, Loss G: -0.4006, Loss D: -0.1142\n",
            "Epoch 936, Loss G: -0.0723, Loss D: 0.2202\n",
            "Epoch 937, Loss G: 0.4268, Loss D: -0.2025\n",
            "Epoch 938, Loss G: 0.0344, Loss D: -0.2680\n",
            "Epoch 939, Loss G: -0.2434, Loss D: -0.2617\n",
            "Epoch 940, Loss G: 0.1458, Loss D: 0.0076\n",
            "Epoch 941, Loss G: 0.3784, Loss D: -0.0560\n",
            "Epoch 942, Loss G: 0.0171, Loss D: -0.3764\n",
            "Epoch 943, Loss G: -0.1830, Loss D: -0.5391\n",
            "Epoch 944, Loss G: 0.0518, Loss D: 0.0565\n",
            "Epoch 945, Loss G: 0.0785, Loss D: -0.1917\n",
            "Epoch 946, Loss G: -0.1265, Loss D: -0.2950\n",
            "Epoch 947, Loss G: -0.2925, Loss D: -0.6512\n",
            "Epoch 948, Loss G: -0.1481, Loss D: 0.1436\n",
            "Epoch 949, Loss G: 0.1166, Loss D: 0.0018\n",
            "Epoch 950, Loss G: -0.3267, Loss D: -0.2740\n",
            "Epoch 951, Loss G: -0.2780, Loss D: -0.2369\n",
            "Epoch 952, Loss G: 0.4784, Loss D: -0.3057\n",
            "Epoch 953, Loss G: -0.3975, Loss D: -0.5488\n",
            "Epoch 954, Loss G: 0.0361, Loss D: -0.1934\n",
            "Epoch 955, Loss G: -0.1511, Loss D: -0.1916\n",
            "Epoch 956, Loss G: -0.2898, Loss D: 0.2974\n",
            "Epoch 957, Loss G: 0.0269, Loss D: -0.3421\n",
            "Epoch 958, Loss G: -0.0513, Loss D: 0.6543\n",
            "Epoch 959, Loss G: -0.0937, Loss D: -0.6975\n",
            "Epoch 960, Loss G: -0.3649, Loss D: 0.2057\n",
            "Epoch 961, Loss G: -0.2279, Loss D: -0.2346\n",
            "Epoch 962, Loss G: -0.0596, Loss D: -0.2375\n",
            "Epoch 963, Loss G: -0.2000, Loss D: -0.4713\n",
            "Epoch 964, Loss G: -0.3726, Loss D: -0.1406\n",
            "Epoch 965, Loss G: 0.3716, Loss D: -0.1532\n",
            "Epoch 966, Loss G: -0.4066, Loss D: -0.3494\n",
            "Epoch 967, Loss G: -0.1174, Loss D: -0.0862\n",
            "Epoch 968, Loss G: -0.6757, Loss D: -0.4749\n",
            "Epoch 969, Loss G: -0.5611, Loss D: -0.2608\n",
            "Epoch 970, Loss G: -0.1587, Loss D: -0.4343\n",
            "Epoch 971, Loss G: -0.0611, Loss D: -0.1724\n",
            "Epoch 972, Loss G: -0.0258, Loss D: 0.2747\n",
            "Epoch 973, Loss G: 0.0468, Loss D: -0.5756\n",
            "Epoch 974, Loss G: 0.3640, Loss D: -0.0929\n",
            "Epoch 975, Loss G: 0.1001, Loss D: 0.0053\n",
            "Epoch 976, Loss G: 0.3247, Loss D: -0.6523\n",
            "Epoch 977, Loss G: 0.2862, Loss D: -0.5970\n",
            "Epoch 978, Loss G: 0.0767, Loss D: -0.2127\n",
            "Epoch 979, Loss G: 0.0541, Loss D: -0.4713\n",
            "Epoch 980, Loss G: 0.1488, Loss D: -0.3748\n",
            "Epoch 981, Loss G: 0.1978, Loss D: 0.0966\n",
            "Epoch 982, Loss G: 0.0214, Loss D: -0.5453\n",
            "Epoch 983, Loss G: 0.1177, Loss D: 0.1186\n",
            "Epoch 984, Loss G: -0.3795, Loss D: -0.2778\n",
            "Epoch 985, Loss G: 0.2366, Loss D: 0.0963\n",
            "Epoch 986, Loss G: 0.3056, Loss D: -0.2267\n",
            "Epoch 987, Loss G: -0.5602, Loss D: -0.0556\n",
            "Epoch 988, Loss G: -0.1181, Loss D: -0.0599\n",
            "Epoch 989, Loss G: 0.6843, Loss D: -0.5069\n",
            "Epoch 990, Loss G: 0.4111, Loss D: -0.2902\n",
            "Epoch 991, Loss G: 0.1400, Loss D: -0.6080\n",
            "Epoch 992, Loss G: 0.1768, Loss D: 0.0774\n",
            "Epoch 993, Loss G: 0.3616, Loss D: -0.7744\n",
            "Epoch 994, Loss G: 0.8415, Loss D: -0.1740\n",
            "Epoch 995, Loss G: 0.7587, Loss D: -0.2852\n",
            "Epoch 996, Loss G: 0.0972, Loss D: 0.0406\n",
            "Epoch 997, Loss G: -0.4920, Loss D: -0.0385\n",
            "Epoch 998, Loss G: 0.7709, Loss D: -0.4846\n",
            "Epoch 999, Loss G: 0.1816, Loss D: -0.3558\n",
            "Epoch 1000, Loss G: -0.2587, Loss D: -0.2622\n"
          ],
          "name": "stdout"
        }
      ]
    },
    {
      "cell_type": "code",
      "metadata": {
        "id": "9qH5V91485Qu",
        "colab_type": "code",
        "colab": {}
      },
      "source": [
        "\n",
        "synth_df = model.sample(50000)"
      ],
      "execution_count": 39,
      "outputs": []
    },
    {
      "cell_type": "code",
      "metadata": {
        "id": "WhCzTiRP9OUA",
        "colab_type": "code",
        "colab": {
          "base_uri": "https://localhost:8080/",
          "height": 309
        },
        "outputId": "c52ef412-dcdb-49e1-bb14-4f30fa221bc8"
      },
      "source": [
        "synth_df.head()"
      ],
      "execution_count": 41,
      "outputs": [
        {
          "output_type": "execute_result",
          "data": {
            "text/html": [
              "<div>\n",
              "<style scoped>\n",
              "    .dataframe tbody tr th:only-of-type {\n",
              "        vertical-align: middle;\n",
              "    }\n",
              "\n",
              "    .dataframe tbody tr th {\n",
              "        vertical-align: top;\n",
              "    }\n",
              "\n",
              "    .dataframe thead th {\n",
              "        text-align: right;\n",
              "    }\n",
              "</style>\n",
              "<table border=\"1\" class=\"dataframe\">\n",
              "  <thead>\n",
              "    <tr style=\"text-align: right;\">\n",
              "      <th></th>\n",
              "      <th>id</th>\n",
              "      <th>amount_tsh</th>\n",
              "      <th>funder</th>\n",
              "      <th>gps_height</th>\n",
              "      <th>installer</th>\n",
              "      <th>longitude</th>\n",
              "      <th>latitude</th>\n",
              "      <th>wpt_name</th>\n",
              "      <th>num_private</th>\n",
              "      <th>basin</th>\n",
              "      <th>region</th>\n",
              "      <th>region_code</th>\n",
              "      <th>district_code</th>\n",
              "      <th>lga</th>\n",
              "      <th>ward</th>\n",
              "      <th>population</th>\n",
              "      <th>public_meeting</th>\n",
              "      <th>scheme_management</th>\n",
              "      <th>permit</th>\n",
              "      <th>construction_year</th>\n",
              "      <th>extraction_type_class</th>\n",
              "      <th>management_group</th>\n",
              "      <th>payment_type</th>\n",
              "      <th>water_quality</th>\n",
              "      <th>quantity</th>\n",
              "      <th>quantity_group</th>\n",
              "      <th>source_type</th>\n",
              "      <th>source_class</th>\n",
              "      <th>waterpoint_type_group</th>\n",
              "      <th>status_group</th>\n",
              "    </tr>\n",
              "  </thead>\n",
              "  <tbody>\n",
              "    <tr>\n",
              "      <th>0</th>\n",
              "      <td>15751</td>\n",
              "      <td>10</td>\n",
              "      <td>other</td>\n",
              "      <td>-19</td>\n",
              "      <td>commu</td>\n",
              "      <td>36</td>\n",
              "      <td>-7</td>\n",
              "      <td>none</td>\n",
              "      <td>0</td>\n",
              "      <td>Rufiji</td>\n",
              "      <td>Mbeya</td>\n",
              "      <td>11</td>\n",
              "      <td>8</td>\n",
              "      <td>Mbarali</td>\n",
              "      <td>Rujewa</td>\n",
              "      <td>1</td>\n",
              "      <td>True</td>\n",
              "      <td>wua</td>\n",
              "      <td>True</td>\n",
              "      <td>unknown</td>\n",
              "      <td>gravity</td>\n",
              "      <td>user-group</td>\n",
              "      <td>on failure</td>\n",
              "      <td>coloured</td>\n",
              "      <td>seasonal</td>\n",
              "      <td>seasonal</td>\n",
              "      <td>river/lake</td>\n",
              "      <td>surface</td>\n",
              "      <td>communal standpipe</td>\n",
              "      <td>functional</td>\n",
              "    </tr>\n",
              "    <tr>\n",
              "      <th>1</th>\n",
              "      <td>53443</td>\n",
              "      <td>23</td>\n",
              "      <td>danida</td>\n",
              "      <td>1</td>\n",
              "      <td>other</td>\n",
              "      <td>33</td>\n",
              "      <td>-8</td>\n",
              "      <td>Mzee Ngunga</td>\n",
              "      <td>0</td>\n",
              "      <td>Lake Nyasa</td>\n",
              "      <td>Mbeya</td>\n",
              "      <td>10</td>\n",
              "      <td>31</td>\n",
              "      <td>Kyela</td>\n",
              "      <td>Mnyuzi</td>\n",
              "      <td>-7</td>\n",
              "      <td>True</td>\n",
              "      <td>vwc</td>\n",
              "      <td>True</td>\n",
              "      <td>unknown</td>\n",
              "      <td>gravity</td>\n",
              "      <td>user-group</td>\n",
              "      <td>monthly</td>\n",
              "      <td>soft</td>\n",
              "      <td>dry</td>\n",
              "      <td>dry</td>\n",
              "      <td>spring</td>\n",
              "      <td>groundwater</td>\n",
              "      <td>communal standpipe</td>\n",
              "      <td>non functional</td>\n",
              "    </tr>\n",
              "    <tr>\n",
              "      <th>2</th>\n",
              "      <td>-5</td>\n",
              "      <td>8</td>\n",
              "      <td>other</td>\n",
              "      <td>1427</td>\n",
              "      <td>dwe</td>\n",
              "      <td>36</td>\n",
              "      <td>-3</td>\n",
              "      <td>Kwa Eliabu Monyo</td>\n",
              "      <td>0</td>\n",
              "      <td>Pangani</td>\n",
              "      <td>Kilimanjaro</td>\n",
              "      <td>3</td>\n",
              "      <td>2</td>\n",
              "      <td>Rombo</td>\n",
              "      <td>Akheri</td>\n",
              "      <td>-1</td>\n",
              "      <td>True</td>\n",
              "      <td>other</td>\n",
              "      <td>True</td>\n",
              "      <td>00s</td>\n",
              "      <td>gravity</td>\n",
              "      <td>user-group</td>\n",
              "      <td>monthly</td>\n",
              "      <td>soft</td>\n",
              "      <td>insufficient</td>\n",
              "      <td>insufficient</td>\n",
              "      <td>spring</td>\n",
              "      <td>groundwater</td>\n",
              "      <td>communal standpipe</td>\n",
              "      <td>functional</td>\n",
              "    </tr>\n",
              "    <tr>\n",
              "      <th>3</th>\n",
              "      <td>60582</td>\n",
              "      <td>15</td>\n",
              "      <td>hesawa</td>\n",
              "      <td>-19</td>\n",
              "      <td>other</td>\n",
              "      <td>33</td>\n",
              "      <td>-1</td>\n",
              "      <td>Tank La Shule</td>\n",
              "      <td>0</td>\n",
              "      <td>Lake Victoria</td>\n",
              "      <td>Mwanza</td>\n",
              "      <td>19</td>\n",
              "      <td>2</td>\n",
              "      <td>Magu</td>\n",
              "      <td>Nyang'hwale</td>\n",
              "      <td>2</td>\n",
              "      <td>True</td>\n",
              "      <td>vwc</td>\n",
              "      <td>True</td>\n",
              "      <td>unknown</td>\n",
              "      <td>other</td>\n",
              "      <td>user-group</td>\n",
              "      <td>never pay</td>\n",
              "      <td>unknown</td>\n",
              "      <td>dry</td>\n",
              "      <td>dry</td>\n",
              "      <td>shallow well</td>\n",
              "      <td>groundwater</td>\n",
              "      <td>other</td>\n",
              "      <td>non functional</td>\n",
              "    </tr>\n",
              "    <tr>\n",
              "      <th>4</th>\n",
              "      <td>64759</td>\n",
              "      <td>15</td>\n",
              "      <td>other</td>\n",
              "      <td>-2</td>\n",
              "      <td>other</td>\n",
              "      <td>32</td>\n",
              "      <td>-8</td>\n",
              "      <td>Utende</td>\n",
              "      <td>0</td>\n",
              "      <td>Lake Rukwa</td>\n",
              "      <td>Mbeya</td>\n",
              "      <td>11</td>\n",
              "      <td>2</td>\n",
              "      <td>Shinyanga Urban</td>\n",
              "      <td>Mogwa</td>\n",
              "      <td>4</td>\n",
              "      <td>True</td>\n",
              "      <td>vwc</td>\n",
              "      <td>True</td>\n",
              "      <td>unknown</td>\n",
              "      <td>gravity</td>\n",
              "      <td>user-group</td>\n",
              "      <td>never pay</td>\n",
              "      <td>soft</td>\n",
              "      <td>insufficient</td>\n",
              "      <td>insufficient</td>\n",
              "      <td>shallow well</td>\n",
              "      <td>groundwater</td>\n",
              "      <td>hand pump</td>\n",
              "      <td>functional</td>\n",
              "    </tr>\n",
              "  </tbody>\n",
              "</table>\n",
              "</div>"
            ],
            "text/plain": [
              "      id  amount_tsh  funder  ...  source_class waterpoint_type_group    status_group\n",
              "0  15751          10   other  ...       surface    communal standpipe      functional\n",
              "1  53443          23  danida  ...   groundwater    communal standpipe  non functional\n",
              "2     -5           8   other  ...   groundwater    communal standpipe      functional\n",
              "3  60582          15  hesawa  ...   groundwater                 other  non functional\n",
              "4  64759          15   other  ...   groundwater             hand pump      functional\n",
              "\n",
              "[5 rows x 30 columns]"
            ]
          },
          "metadata": {
            "tags": []
          },
          "execution_count": 41
        }
      ]
    },
    {
      "cell_type": "code",
      "metadata": {
        "id": "CRNv-iCOrmAa",
        "colab_type": "code",
        "colab": {
          "base_uri": "https://localhost:8080/",
          "height": 646
        },
        "outputId": "130ede4f-1b83-4c9d-8f31-7af0c3e2e3cf"
      },
      "source": [
        "synth_df.info()"
      ],
      "execution_count": 42,
      "outputs": [
        {
          "output_type": "stream",
          "text": [
            "<class 'pandas.core.frame.DataFrame'>\n",
            "RangeIndex: 50000 entries, 0 to 49999\n",
            "Data columns (total 30 columns):\n",
            " #   Column                 Non-Null Count  Dtype \n",
            "---  ------                 --------------  ----- \n",
            " 0   id                     50000 non-null  int64 \n",
            " 1   amount_tsh             50000 non-null  int64 \n",
            " 2   funder                 50000 non-null  object\n",
            " 3   gps_height             50000 non-null  int64 \n",
            " 4   installer              50000 non-null  object\n",
            " 5   longitude              50000 non-null  int64 \n",
            " 6   latitude               50000 non-null  int64 \n",
            " 7   wpt_name               50000 non-null  object\n",
            " 8   num_private            50000 non-null  int64 \n",
            " 9   basin                  50000 non-null  object\n",
            " 10  region                 50000 non-null  object\n",
            " 11  region_code            50000 non-null  int64 \n",
            " 12  district_code          50000 non-null  int64 \n",
            " 13  lga                    50000 non-null  object\n",
            " 14  ward                   50000 non-null  object\n",
            " 15  population             50000 non-null  int64 \n",
            " 16  public_meeting         50000 non-null  object\n",
            " 17  scheme_management      50000 non-null  object\n",
            " 18  permit                 50000 non-null  object\n",
            " 19  construction_year      50000 non-null  object\n",
            " 20  extraction_type_class  50000 non-null  object\n",
            " 21  management_group       50000 non-null  object\n",
            " 22  payment_type           50000 non-null  object\n",
            " 23  water_quality          50000 non-null  object\n",
            " 24  quantity               50000 non-null  object\n",
            " 25  quantity_group         50000 non-null  object\n",
            " 26  source_type            50000 non-null  object\n",
            " 27  source_class           50000 non-null  object\n",
            " 28  waterpoint_type_group  50000 non-null  object\n",
            " 29  status_group           50000 non-null  object\n",
            "dtypes: int64(9), object(21)\n",
            "memory usage: 11.4+ MB\n"
          ],
          "name": "stdout"
        }
      ]
    },
    {
      "cell_type": "code",
      "metadata": {
        "id": "SKbmiujBrjbF",
        "colab_type": "code",
        "colab": {}
      },
      "source": [
        "synth_df.to_csv('pump_it_synt_df.csv', index=False)"
      ],
      "execution_count": 43,
      "outputs": []
    },
    {
      "cell_type": "code",
      "metadata": {
        "id": "vCZqzNG8rjla",
        "colab_type": "code",
        "colab": {}
      },
      "source": [
        ""
      ],
      "execution_count": null,
      "outputs": []
    },
    {
      "cell_type": "code",
      "metadata": {
        "id": "YDpdoEpTrjod",
        "colab_type": "code",
        "colab": {}
      },
      "source": [
        ""
      ],
      "execution_count": null,
      "outputs": []
    },
    {
      "cell_type": "code",
      "metadata": {
        "id": "7uxwgiX7rjrs",
        "colab_type": "code",
        "colab": {}
      },
      "source": [
        ""
      ],
      "execution_count": null,
      "outputs": []
    },
    {
      "cell_type": "code",
      "metadata": {
        "id": "TDboK6y97F5V",
        "colab_type": "code",
        "colab": {}
      },
      "source": [
        ""
      ],
      "execution_count": 21,
      "outputs": []
    },
    {
      "cell_type": "markdown",
      "metadata": {
        "id": "sP7DtVxbLAZQ",
        "colab_type": "text"
      },
      "source": [
        ""
      ]
    },
    {
      "cell_type": "code",
      "metadata": {
        "id": "044Cznxv7e0H",
        "colab_type": "code",
        "colab": {
          "base_uri": "https://localhost:8080/",
          "height": 646
        },
        "outputId": "670fb350-2855-4840-9ef2-2c3e580d318b"
      },
      "source": [
        "synth_df.info()"
      ],
      "execution_count": 50,
      "outputs": [
        {
          "output_type": "stream",
          "text": [
            "<class 'pandas.core.frame.DataFrame'>\n",
            "RangeIndex: 50000 entries, 0 to 49999\n",
            "Data columns (total 30 columns):\n",
            " #   Column                 Non-Null Count  Dtype \n",
            "---  ------                 --------------  ----- \n",
            " 0   id                     50000 non-null  int64 \n",
            " 1   amount_tsh             50000 non-null  int64 \n",
            " 2   funder                 50000 non-null  object\n",
            " 3   gps_height             50000 non-null  int64 \n",
            " 4   installer              50000 non-null  object\n",
            " 5   longitude              50000 non-null  int64 \n",
            " 6   latitude               50000 non-null  int64 \n",
            " 7   wpt_name               50000 non-null  object\n",
            " 8   num_private            50000 non-null  int64 \n",
            " 9   basin                  50000 non-null  object\n",
            " 10  region                 50000 non-null  object\n",
            " 11  region_code            50000 non-null  int64 \n",
            " 12  district_code          50000 non-null  int64 \n",
            " 13  lga                    50000 non-null  object\n",
            " 14  ward                   50000 non-null  object\n",
            " 15  population             50000 non-null  int64 \n",
            " 16  public_meeting         50000 non-null  object\n",
            " 17  scheme_management      50000 non-null  object\n",
            " 18  permit                 50000 non-null  object\n",
            " 19  construction_year      50000 non-null  object\n",
            " 20  extraction_type_class  50000 non-null  object\n",
            " 21  management_group       50000 non-null  object\n",
            " 22  payment_type           50000 non-null  object\n",
            " 23  water_quality          50000 non-null  object\n",
            " 24  quantity               50000 non-null  object\n",
            " 25  quantity_group         50000 non-null  object\n",
            " 26  source_type            50000 non-null  object\n",
            " 27  source_class           50000 non-null  object\n",
            " 28  waterpoint_type_group  50000 non-null  object\n",
            " 29  status_group           50000 non-null  object\n",
            "dtypes: int64(9), object(21)\n",
            "memory usage: 11.4+ MB\n"
          ],
          "name": "stdout"
        }
      ]
    },
    {
      "cell_type": "code",
      "metadata": {
        "id": "YG6jw4vW7e4A",
        "colab_type": "code",
        "colab": {}
      },
      "source": [
        ""
      ],
      "execution_count": 23,
      "outputs": []
    },
    {
      "cell_type": "markdown",
      "metadata": {
        "id": "C-HX-Ni4LW1L",
        "colab_type": "text"
      },
      "source": [
        "# Random Forest for synthetic train"
      ]
    },
    {
      "cell_type": "code",
      "metadata": {
        "id": "iC_nGrBW7e9U",
        "colab_type": "code",
        "colab": {}
      },
      "source": [
        "synth_df_2 = synth_df"
      ],
      "execution_count": 52,
      "outputs": []
    },
    {
      "cell_type": "code",
      "metadata": {
        "id": "FLMv1xPt7fDl",
        "colab_type": "code",
        "colab": {
          "base_uri": "https://localhost:8080/",
          "height": 100
        },
        "outputId": "66211ada-08f9-44a6-e95f-e4e324f7ae12"
      },
      "source": [
        "synth_df_num_2 = synth_df_2.select_dtypes(include = np.number).copy()\n",
        "synth_df_num_2.head(1)"
      ],
      "execution_count": 53,
      "outputs": [
        {
          "output_type": "execute_result",
          "data": {
            "text/html": [
              "<div>\n",
              "<style scoped>\n",
              "    .dataframe tbody tr th:only-of-type {\n",
              "        vertical-align: middle;\n",
              "    }\n",
              "\n",
              "    .dataframe tbody tr th {\n",
              "        vertical-align: top;\n",
              "    }\n",
              "\n",
              "    .dataframe thead th {\n",
              "        text-align: right;\n",
              "    }\n",
              "</style>\n",
              "<table border=\"1\" class=\"dataframe\">\n",
              "  <thead>\n",
              "    <tr style=\"text-align: right;\">\n",
              "      <th></th>\n",
              "      <th>id</th>\n",
              "      <th>amount_tsh</th>\n",
              "      <th>gps_height</th>\n",
              "      <th>longitude</th>\n",
              "      <th>latitude</th>\n",
              "      <th>num_private</th>\n",
              "      <th>region_code</th>\n",
              "      <th>district_code</th>\n",
              "      <th>population</th>\n",
              "    </tr>\n",
              "  </thead>\n",
              "  <tbody>\n",
              "    <tr>\n",
              "      <th>0</th>\n",
              "      <td>15751</td>\n",
              "      <td>10</td>\n",
              "      <td>-19</td>\n",
              "      <td>36</td>\n",
              "      <td>-7</td>\n",
              "      <td>0</td>\n",
              "      <td>11</td>\n",
              "      <td>8</td>\n",
              "      <td>1</td>\n",
              "    </tr>\n",
              "  </tbody>\n",
              "</table>\n",
              "</div>"
            ],
            "text/plain": [
              "      id  amount_tsh  gps_height  ...  region_code  district_code  population\n",
              "0  15751          10         -19  ...           11              8           1\n",
              "\n",
              "[1 rows x 9 columns]"
            ]
          },
          "metadata": {
            "tags": []
          },
          "execution_count": 53
        }
      ]
    },
    {
      "cell_type": "code",
      "metadata": {
        "id": "nCV73_zI7fG0",
        "colab_type": "code",
        "colab": {
          "base_uri": "https://localhost:8080/",
          "height": 292
        },
        "outputId": "bdaa03a1-3ffe-4b2a-d5c1-52379b622609"
      },
      "source": [
        "# Encode features with more then < 50 unique values, numberical columns to that dataframe\n",
        "X_synth_df_2 = synth_df_2.loc[:, synth_df_2.nunique().sort_values() < 50]\n",
        "print('X_synth_df_2:', X_synth_df_2.shape)\n",
        "X_synth_df_2.head()"
      ],
      "execution_count": 54,
      "outputs": [
        {
          "output_type": "stream",
          "text": [
            "X_synth_df_2: (50000, 21)\n"
          ],
          "name": "stdout"
        },
        {
          "output_type": "execute_result",
          "data": {
            "text/html": [
              "<div>\n",
              "<style scoped>\n",
              "    .dataframe tbody tr th:only-of-type {\n",
              "        vertical-align: middle;\n",
              "    }\n",
              "\n",
              "    .dataframe tbody tr th {\n",
              "        vertical-align: top;\n",
              "    }\n",
              "\n",
              "    .dataframe thead th {\n",
              "        text-align: right;\n",
              "    }\n",
              "</style>\n",
              "<table border=\"1\" class=\"dataframe\">\n",
              "  <thead>\n",
              "    <tr style=\"text-align: right;\">\n",
              "      <th></th>\n",
              "      <th>funder</th>\n",
              "      <th>installer</th>\n",
              "      <th>longitude</th>\n",
              "      <th>latitude</th>\n",
              "      <th>num_private</th>\n",
              "      <th>basin</th>\n",
              "      <th>region</th>\n",
              "      <th>public_meeting</th>\n",
              "      <th>scheme_management</th>\n",
              "      <th>permit</th>\n",
              "      <th>construction_year</th>\n",
              "      <th>extraction_type_class</th>\n",
              "      <th>management_group</th>\n",
              "      <th>payment_type</th>\n",
              "      <th>water_quality</th>\n",
              "      <th>quantity</th>\n",
              "      <th>quantity_group</th>\n",
              "      <th>source_type</th>\n",
              "      <th>source_class</th>\n",
              "      <th>waterpoint_type_group</th>\n",
              "      <th>status_group</th>\n",
              "    </tr>\n",
              "  </thead>\n",
              "  <tbody>\n",
              "    <tr>\n",
              "      <th>0</th>\n",
              "      <td>other</td>\n",
              "      <td>commu</td>\n",
              "      <td>36</td>\n",
              "      <td>-7</td>\n",
              "      <td>0</td>\n",
              "      <td>Rufiji</td>\n",
              "      <td>Mbeya</td>\n",
              "      <td>True</td>\n",
              "      <td>wua</td>\n",
              "      <td>True</td>\n",
              "      <td>unknown</td>\n",
              "      <td>gravity</td>\n",
              "      <td>user-group</td>\n",
              "      <td>on failure</td>\n",
              "      <td>coloured</td>\n",
              "      <td>seasonal</td>\n",
              "      <td>seasonal</td>\n",
              "      <td>river/lake</td>\n",
              "      <td>surface</td>\n",
              "      <td>communal standpipe</td>\n",
              "      <td>functional</td>\n",
              "    </tr>\n",
              "    <tr>\n",
              "      <th>1</th>\n",
              "      <td>danida</td>\n",
              "      <td>other</td>\n",
              "      <td>33</td>\n",
              "      <td>-8</td>\n",
              "      <td>0</td>\n",
              "      <td>Lake Nyasa</td>\n",
              "      <td>Mbeya</td>\n",
              "      <td>True</td>\n",
              "      <td>vwc</td>\n",
              "      <td>True</td>\n",
              "      <td>unknown</td>\n",
              "      <td>gravity</td>\n",
              "      <td>user-group</td>\n",
              "      <td>monthly</td>\n",
              "      <td>soft</td>\n",
              "      <td>dry</td>\n",
              "      <td>dry</td>\n",
              "      <td>spring</td>\n",
              "      <td>groundwater</td>\n",
              "      <td>communal standpipe</td>\n",
              "      <td>non functional</td>\n",
              "    </tr>\n",
              "    <tr>\n",
              "      <th>2</th>\n",
              "      <td>other</td>\n",
              "      <td>dwe</td>\n",
              "      <td>36</td>\n",
              "      <td>-3</td>\n",
              "      <td>0</td>\n",
              "      <td>Pangani</td>\n",
              "      <td>Kilimanjaro</td>\n",
              "      <td>True</td>\n",
              "      <td>other</td>\n",
              "      <td>True</td>\n",
              "      <td>00s</td>\n",
              "      <td>gravity</td>\n",
              "      <td>user-group</td>\n",
              "      <td>monthly</td>\n",
              "      <td>soft</td>\n",
              "      <td>insufficient</td>\n",
              "      <td>insufficient</td>\n",
              "      <td>spring</td>\n",
              "      <td>groundwater</td>\n",
              "      <td>communal standpipe</td>\n",
              "      <td>functional</td>\n",
              "    </tr>\n",
              "    <tr>\n",
              "      <th>3</th>\n",
              "      <td>hesawa</td>\n",
              "      <td>other</td>\n",
              "      <td>33</td>\n",
              "      <td>-1</td>\n",
              "      <td>0</td>\n",
              "      <td>Lake Victoria</td>\n",
              "      <td>Mwanza</td>\n",
              "      <td>True</td>\n",
              "      <td>vwc</td>\n",
              "      <td>True</td>\n",
              "      <td>unknown</td>\n",
              "      <td>other</td>\n",
              "      <td>user-group</td>\n",
              "      <td>never pay</td>\n",
              "      <td>unknown</td>\n",
              "      <td>dry</td>\n",
              "      <td>dry</td>\n",
              "      <td>shallow well</td>\n",
              "      <td>groundwater</td>\n",
              "      <td>other</td>\n",
              "      <td>non functional</td>\n",
              "    </tr>\n",
              "    <tr>\n",
              "      <th>4</th>\n",
              "      <td>other</td>\n",
              "      <td>other</td>\n",
              "      <td>32</td>\n",
              "      <td>-8</td>\n",
              "      <td>0</td>\n",
              "      <td>Lake Rukwa</td>\n",
              "      <td>Mbeya</td>\n",
              "      <td>True</td>\n",
              "      <td>vwc</td>\n",
              "      <td>True</td>\n",
              "      <td>unknown</td>\n",
              "      <td>gravity</td>\n",
              "      <td>user-group</td>\n",
              "      <td>never pay</td>\n",
              "      <td>soft</td>\n",
              "      <td>insufficient</td>\n",
              "      <td>insufficient</td>\n",
              "      <td>shallow well</td>\n",
              "      <td>groundwater</td>\n",
              "      <td>hand pump</td>\n",
              "      <td>functional</td>\n",
              "    </tr>\n",
              "  </tbody>\n",
              "</table>\n",
              "</div>"
            ],
            "text/plain": [
              "   funder installer  ...  waterpoint_type_group    status_group\n",
              "0   other     commu  ...     communal standpipe      functional\n",
              "1  danida     other  ...     communal standpipe  non functional\n",
              "2   other       dwe  ...     communal standpipe      functional\n",
              "3  hesawa     other  ...                  other  non functional\n",
              "4   other     other  ...              hand pump      functional\n",
              "\n",
              "[5 rows x 21 columns]"
            ]
          },
          "metadata": {
            "tags": []
          },
          "execution_count": 54
        }
      ]
    },
    {
      "cell_type": "code",
      "metadata": {
        "id": "wjpV4TjQxy2k",
        "colab_type": "code",
        "colab": {
          "base_uri": "https://localhost:8080/",
          "height": 224
        },
        "outputId": "20534cda-496d-40c9-a53b-3eb1fa9e853c"
      },
      "source": [
        "synth_cat_cols_train_2 = list(X_synth_df_2.select_dtypes(['object']).columns.values)\n",
        "\n",
        "X_categorical_synth_train_2 = X_synth_df_2[synth_cat_cols_train_2].apply(lambda x: x.astype('category').cat.codes)\n",
        "X_categorical_synth_train_2.head()"
      ],
      "execution_count": 57,
      "outputs": [
        {
          "output_type": "execute_result",
          "data": {
            "text/html": [
              "<div>\n",
              "<style scoped>\n",
              "    .dataframe tbody tr th:only-of-type {\n",
              "        vertical-align: middle;\n",
              "    }\n",
              "\n",
              "    .dataframe tbody tr th {\n",
              "        vertical-align: top;\n",
              "    }\n",
              "\n",
              "    .dataframe thead th {\n",
              "        text-align: right;\n",
              "    }\n",
              "</style>\n",
              "<table border=\"1\" class=\"dataframe\">\n",
              "  <thead>\n",
              "    <tr style=\"text-align: right;\">\n",
              "      <th></th>\n",
              "      <th>funder</th>\n",
              "      <th>installer</th>\n",
              "      <th>basin</th>\n",
              "      <th>region</th>\n",
              "      <th>public_meeting</th>\n",
              "      <th>scheme_management</th>\n",
              "      <th>permit</th>\n",
              "      <th>construction_year</th>\n",
              "      <th>extraction_type_class</th>\n",
              "      <th>management_group</th>\n",
              "      <th>payment_type</th>\n",
              "      <th>water_quality</th>\n",
              "      <th>quantity</th>\n",
              "      <th>quantity_group</th>\n",
              "      <th>source_type</th>\n",
              "      <th>source_class</th>\n",
              "      <th>waterpoint_type_group</th>\n",
              "      <th>status_group</th>\n",
              "    </tr>\n",
              "  </thead>\n",
              "  <tbody>\n",
              "    <tr>\n",
              "      <th>0</th>\n",
              "      <td>3</td>\n",
              "      <td>0</td>\n",
              "      <td>6</td>\n",
              "      <td>10</td>\n",
              "      <td>1</td>\n",
              "      <td>4</td>\n",
              "      <td>1</td>\n",
              "      <td>6</td>\n",
              "      <td>0</td>\n",
              "      <td>4</td>\n",
              "      <td>3</td>\n",
              "      <td>0</td>\n",
              "      <td>3</td>\n",
              "      <td>3</td>\n",
              "      <td>4</td>\n",
              "      <td>1</td>\n",
              "      <td>1</td>\n",
              "      <td>0</td>\n",
              "    </tr>\n",
              "    <tr>\n",
              "      <th>1</th>\n",
              "      <td>0</td>\n",
              "      <td>4</td>\n",
              "      <td>1</td>\n",
              "      <td>10</td>\n",
              "      <td>1</td>\n",
              "      <td>1</td>\n",
              "      <td>1</td>\n",
              "      <td>6</td>\n",
              "      <td>0</td>\n",
              "      <td>4</td>\n",
              "      <td>1</td>\n",
              "      <td>6</td>\n",
              "      <td>0</td>\n",
              "      <td>0</td>\n",
              "      <td>6</td>\n",
              "      <td>0</td>\n",
              "      <td>1</td>\n",
              "      <td>2</td>\n",
              "    </tr>\n",
              "    <tr>\n",
              "      <th>2</th>\n",
              "      <td>3</td>\n",
              "      <td>2</td>\n",
              "      <td>5</td>\n",
              "      <td>6</td>\n",
              "      <td>1</td>\n",
              "      <td>0</td>\n",
              "      <td>1</td>\n",
              "      <td>0</td>\n",
              "      <td>0</td>\n",
              "      <td>4</td>\n",
              "      <td>1</td>\n",
              "      <td>6</td>\n",
              "      <td>2</td>\n",
              "      <td>2</td>\n",
              "      <td>6</td>\n",
              "      <td>0</td>\n",
              "      <td>1</td>\n",
              "      <td>0</td>\n",
              "    </tr>\n",
              "    <tr>\n",
              "      <th>3</th>\n",
              "      <td>2</td>\n",
              "      <td>4</td>\n",
              "      <td>4</td>\n",
              "      <td>13</td>\n",
              "      <td>1</td>\n",
              "      <td>1</td>\n",
              "      <td>1</td>\n",
              "      <td>6</td>\n",
              "      <td>3</td>\n",
              "      <td>4</td>\n",
              "      <td>2</td>\n",
              "      <td>7</td>\n",
              "      <td>0</td>\n",
              "      <td>0</td>\n",
              "      <td>5</td>\n",
              "      <td>0</td>\n",
              "      <td>5</td>\n",
              "      <td>2</td>\n",
              "    </tr>\n",
              "    <tr>\n",
              "      <th>4</th>\n",
              "      <td>3</td>\n",
              "      <td>4</td>\n",
              "      <td>2</td>\n",
              "      <td>10</td>\n",
              "      <td>1</td>\n",
              "      <td>1</td>\n",
              "      <td>1</td>\n",
              "      <td>6</td>\n",
              "      <td>0</td>\n",
              "      <td>4</td>\n",
              "      <td>2</td>\n",
              "      <td>6</td>\n",
              "      <td>2</td>\n",
              "      <td>2</td>\n",
              "      <td>5</td>\n",
              "      <td>0</td>\n",
              "      <td>3</td>\n",
              "      <td>0</td>\n",
              "    </tr>\n",
              "  </tbody>\n",
              "</table>\n",
              "</div>"
            ],
            "text/plain": [
              "   funder  installer  basin  ...  source_class  waterpoint_type_group  status_group\n",
              "0       3          0      6  ...             1                      1             0\n",
              "1       0          4      1  ...             0                      1             2\n",
              "2       3          2      5  ...             0                      1             0\n",
              "3       2          4      4  ...             0                      5             2\n",
              "4       3          4      2  ...             0                      3             0\n",
              "\n",
              "[5 rows x 18 columns]"
            ]
          },
          "metadata": {
            "tags": []
          },
          "execution_count": 57
        }
      ]
    },
    {
      "cell_type": "code",
      "metadata": {
        "id": "NNllSK3Jxy54",
        "colab_type": "code",
        "colab": {
          "base_uri": "https://localhost:8080/",
          "height": 34
        },
        "outputId": "1bd458cc-7101-4636-8b9a-67127b6d1f29"
      },
      "source": [
        "X_synth_train_2_select = synth_df_num_2.join(X_categorical_synth_train_2)\n",
        "X_synth_train_2_select.shape"
      ],
      "execution_count": 58,
      "outputs": [
        {
          "output_type": "execute_result",
          "data": {
            "text/plain": [
              "(50000, 27)"
            ]
          },
          "metadata": {
            "tags": []
          },
          "execution_count": 58
        }
      ]
    },
    {
      "cell_type": "code",
      "metadata": {
        "id": "fcZwvF_yxy9c",
        "colab_type": "code",
        "colab": {
          "base_uri": "https://localhost:8080/",
          "height": 224
        },
        "outputId": "f26c0922-3732-4252-f5d1-ffb86272899d"
      },
      "source": [
        "X_synth_train_2_select.head()"
      ],
      "execution_count": 60,
      "outputs": [
        {
          "output_type": "execute_result",
          "data": {
            "text/html": [
              "<div>\n",
              "<style scoped>\n",
              "    .dataframe tbody tr th:only-of-type {\n",
              "        vertical-align: middle;\n",
              "    }\n",
              "\n",
              "    .dataframe tbody tr th {\n",
              "        vertical-align: top;\n",
              "    }\n",
              "\n",
              "    .dataframe thead th {\n",
              "        text-align: right;\n",
              "    }\n",
              "</style>\n",
              "<table border=\"1\" class=\"dataframe\">\n",
              "  <thead>\n",
              "    <tr style=\"text-align: right;\">\n",
              "      <th></th>\n",
              "      <th>id</th>\n",
              "      <th>amount_tsh</th>\n",
              "      <th>gps_height</th>\n",
              "      <th>longitude</th>\n",
              "      <th>latitude</th>\n",
              "      <th>num_private</th>\n",
              "      <th>region_code</th>\n",
              "      <th>district_code</th>\n",
              "      <th>population</th>\n",
              "      <th>funder</th>\n",
              "      <th>installer</th>\n",
              "      <th>basin</th>\n",
              "      <th>region</th>\n",
              "      <th>public_meeting</th>\n",
              "      <th>scheme_management</th>\n",
              "      <th>permit</th>\n",
              "      <th>construction_year</th>\n",
              "      <th>extraction_type_class</th>\n",
              "      <th>management_group</th>\n",
              "      <th>payment_type</th>\n",
              "      <th>water_quality</th>\n",
              "      <th>quantity</th>\n",
              "      <th>quantity_group</th>\n",
              "      <th>source_type</th>\n",
              "      <th>source_class</th>\n",
              "      <th>waterpoint_type_group</th>\n",
              "      <th>status_group</th>\n",
              "    </tr>\n",
              "  </thead>\n",
              "  <tbody>\n",
              "    <tr>\n",
              "      <th>0</th>\n",
              "      <td>15751</td>\n",
              "      <td>10</td>\n",
              "      <td>-19</td>\n",
              "      <td>36</td>\n",
              "      <td>-7</td>\n",
              "      <td>0</td>\n",
              "      <td>11</td>\n",
              "      <td>8</td>\n",
              "      <td>1</td>\n",
              "      <td>3</td>\n",
              "      <td>0</td>\n",
              "      <td>6</td>\n",
              "      <td>10</td>\n",
              "      <td>1</td>\n",
              "      <td>4</td>\n",
              "      <td>1</td>\n",
              "      <td>6</td>\n",
              "      <td>0</td>\n",
              "      <td>4</td>\n",
              "      <td>3</td>\n",
              "      <td>0</td>\n",
              "      <td>3</td>\n",
              "      <td>3</td>\n",
              "      <td>4</td>\n",
              "      <td>1</td>\n",
              "      <td>1</td>\n",
              "      <td>0</td>\n",
              "    </tr>\n",
              "    <tr>\n",
              "      <th>1</th>\n",
              "      <td>53443</td>\n",
              "      <td>23</td>\n",
              "      <td>1</td>\n",
              "      <td>33</td>\n",
              "      <td>-8</td>\n",
              "      <td>0</td>\n",
              "      <td>10</td>\n",
              "      <td>31</td>\n",
              "      <td>-7</td>\n",
              "      <td>0</td>\n",
              "      <td>4</td>\n",
              "      <td>1</td>\n",
              "      <td>10</td>\n",
              "      <td>1</td>\n",
              "      <td>1</td>\n",
              "      <td>1</td>\n",
              "      <td>6</td>\n",
              "      <td>0</td>\n",
              "      <td>4</td>\n",
              "      <td>1</td>\n",
              "      <td>6</td>\n",
              "      <td>0</td>\n",
              "      <td>0</td>\n",
              "      <td>6</td>\n",
              "      <td>0</td>\n",
              "      <td>1</td>\n",
              "      <td>2</td>\n",
              "    </tr>\n",
              "    <tr>\n",
              "      <th>2</th>\n",
              "      <td>-5</td>\n",
              "      <td>8</td>\n",
              "      <td>1427</td>\n",
              "      <td>36</td>\n",
              "      <td>-3</td>\n",
              "      <td>0</td>\n",
              "      <td>3</td>\n",
              "      <td>2</td>\n",
              "      <td>-1</td>\n",
              "      <td>3</td>\n",
              "      <td>2</td>\n",
              "      <td>5</td>\n",
              "      <td>6</td>\n",
              "      <td>1</td>\n",
              "      <td>0</td>\n",
              "      <td>1</td>\n",
              "      <td>0</td>\n",
              "      <td>0</td>\n",
              "      <td>4</td>\n",
              "      <td>1</td>\n",
              "      <td>6</td>\n",
              "      <td>2</td>\n",
              "      <td>2</td>\n",
              "      <td>6</td>\n",
              "      <td>0</td>\n",
              "      <td>1</td>\n",
              "      <td>0</td>\n",
              "    </tr>\n",
              "    <tr>\n",
              "      <th>3</th>\n",
              "      <td>60582</td>\n",
              "      <td>15</td>\n",
              "      <td>-19</td>\n",
              "      <td>33</td>\n",
              "      <td>-1</td>\n",
              "      <td>0</td>\n",
              "      <td>19</td>\n",
              "      <td>2</td>\n",
              "      <td>2</td>\n",
              "      <td>2</td>\n",
              "      <td>4</td>\n",
              "      <td>4</td>\n",
              "      <td>13</td>\n",
              "      <td>1</td>\n",
              "      <td>1</td>\n",
              "      <td>1</td>\n",
              "      <td>6</td>\n",
              "      <td>3</td>\n",
              "      <td>4</td>\n",
              "      <td>2</td>\n",
              "      <td>7</td>\n",
              "      <td>0</td>\n",
              "      <td>0</td>\n",
              "      <td>5</td>\n",
              "      <td>0</td>\n",
              "      <td>5</td>\n",
              "      <td>2</td>\n",
              "    </tr>\n",
              "    <tr>\n",
              "      <th>4</th>\n",
              "      <td>64759</td>\n",
              "      <td>15</td>\n",
              "      <td>-2</td>\n",
              "      <td>32</td>\n",
              "      <td>-8</td>\n",
              "      <td>0</td>\n",
              "      <td>11</td>\n",
              "      <td>2</td>\n",
              "      <td>4</td>\n",
              "      <td>3</td>\n",
              "      <td>4</td>\n",
              "      <td>2</td>\n",
              "      <td>10</td>\n",
              "      <td>1</td>\n",
              "      <td>1</td>\n",
              "      <td>1</td>\n",
              "      <td>6</td>\n",
              "      <td>0</td>\n",
              "      <td>4</td>\n",
              "      <td>2</td>\n",
              "      <td>6</td>\n",
              "      <td>2</td>\n",
              "      <td>2</td>\n",
              "      <td>5</td>\n",
              "      <td>0</td>\n",
              "      <td>3</td>\n",
              "      <td>0</td>\n",
              "    </tr>\n",
              "  </tbody>\n",
              "</table>\n",
              "</div>"
            ],
            "text/plain": [
              "      id  amount_tsh  ...  waterpoint_type_group  status_group\n",
              "0  15751          10  ...                      1             0\n",
              "1  53443          23  ...                      1             2\n",
              "2     -5           8  ...                      1             0\n",
              "3  60582          15  ...                      5             2\n",
              "4  64759          15  ...                      3             0\n",
              "\n",
              "[5 rows x 27 columns]"
            ]
          },
          "metadata": {
            "tags": []
          },
          "execution_count": 60
        }
      ]
    },
    {
      "cell_type": "code",
      "metadata": {
        "id": "wxOpd37qxzBd",
        "colab_type": "code",
        "colab": {}
      },
      "source": [
        "# Test data\n",
        "test_data_copy_2 = test_data_copy"
      ],
      "execution_count": 66,
      "outputs": []
    },
    {
      "cell_type": "code",
      "metadata": {
        "id": "DJll3Y3H1i_1",
        "colab_type": "code",
        "colab": {}
      },
      "source": [
        "X_test_num = test_data_copy_2.select_dtypes(include = np.number).copy()\n"
      ],
      "execution_count": 69,
      "outputs": []
    },
    {
      "cell_type": "code",
      "metadata": {
        "id": "tjKLLdnby31h",
        "colab_type": "code",
        "colab": {}
      },
      "source": [
        "X_test_2_select = test_data_copy_2.loc[:, test_data_copy_2.nunique().sort_values() < 50]\n"
      ],
      "execution_count": 67,
      "outputs": []
    },
    {
      "cell_type": "code",
      "metadata": {
        "id": "-EBXEftY1AR1",
        "colab_type": "code",
        "colab": {}
      },
      "source": [
        "cat = list(X_test_2_select.select_dtypes(['object']).columns.values)\n",
        "X_test_cat = X_test_2_select[cat].apply(lambda x: x.astype('category').cat.codes)\n",
        "\n",
        "X_test_sel = X_test_num.join(X_test_cat)"
      ],
      "execution_count": 70,
      "outputs": []
    },
    {
      "cell_type": "code",
      "metadata": {
        "id": "nLXTK7ME1Ayj",
        "colab_type": "code",
        "colab": {}
      },
      "source": [
        ""
      ],
      "execution_count": null,
      "outputs": []
    },
    {
      "cell_type": "code",
      "metadata": {
        "id": "a4NC6ddm1AF5",
        "colab_type": "code",
        "colab": {}
      },
      "source": [
        ""
      ],
      "execution_count": null,
      "outputs": []
    },
    {
      "cell_type": "markdown",
      "metadata": {
        "id": "7NXO2V_Dy4LS",
        "colab_type": "text"
      },
      "source": [
        "#### Model"
      ]
    },
    {
      "cell_type": "code",
      "metadata": {
        "id": "ZfNw0uyXxzE9",
        "colab_type": "code",
        "colab": {}
      },
      "source": [
        "synth_target = X_synth_train_2_select['status_group']\n",
        "synth_train = X_synth_train_2_select.drop(\"status_group\", axis=1)"
      ],
      "execution_count": 61,
      "outputs": []
    },
    {
      "cell_type": "code",
      "metadata": {
        "id": "rW7hyAP6zUqR",
        "colab_type": "code",
        "colab": {}
      },
      "source": [
        "# Decision Tree\n",
        "clf = DecisionTreeClassifier()\n"
      ],
      "execution_count": 63,
      "outputs": []
    },
    {
      "cell_type": "code",
      "metadata": {
        "id": "ZGjhQ-XyzVC7",
        "colab_type": "code",
        "colab": {
          "base_uri": "https://localhost:8080/",
          "height": 68
        },
        "outputId": "1c28ae14-a72f-46b5-995a-fcf82c9d38c0"
      },
      "source": [
        "synth_cv_score = cross_val_score(clf, \n",
        "                            synth_train, synth_target,\n",
        "                            scoring = 'accuracy',\n",
        "                            cv = 3,\n",
        "                            n_jobs = -1,\n",
        "                            verbose = 1)\n",
        "synth_cv_score"
      ],
      "execution_count": 64,
      "outputs": [
        {
          "output_type": "stream",
          "text": [
            "[Parallel(n_jobs=-1)]: Using backend LokyBackend with 4 concurrent workers.\n",
            "[Parallel(n_jobs=-1)]: Done   3 out of   3 | elapsed:    1.7s finished\n"
          ],
          "name": "stderr"
        },
        {
          "output_type": "execute_result",
          "data": {
            "text/plain": [
              "array([0.60166797, 0.60424792, 0.5973839 ])"
            ]
          },
          "metadata": {
            "tags": []
          },
          "execution_count": 64
        }
      ]
    },
    {
      "cell_type": "code",
      "metadata": {
        "id": "kAtUbyavzVJF",
        "colab_type": "code",
        "colab": {}
      },
      "source": [
        ""
      ],
      "execution_count": null,
      "outputs": []
    },
    {
      "cell_type": "code",
      "metadata": {
        "id": "85A8ZbMV0asI",
        "colab_type": "code",
        "colab": {}
      },
      "source": [
        "# Random Forest\n"
      ],
      "execution_count": null,
      "outputs": []
    },
    {
      "cell_type": "code",
      "metadata": {
        "id": "Yirr1U9y0aik",
        "colab_type": "code",
        "colab": {}
      },
      "source": [
        ""
      ],
      "execution_count": null,
      "outputs": []
    },
    {
      "cell_type": "code",
      "metadata": {
        "id": "UEQMvYa3zVGY",
        "colab_type": "code",
        "colab": {}
      },
      "source": [
        "X_train, X_test, y_train, y_test = train_test_split(\n",
        "    synth_train, synth_target, test_size=0.2)"
      ],
      "execution_count": 65,
      "outputs": []
    },
    {
      "cell_type": "code",
      "metadata": {
        "id": "1ax_CkDwzUuF",
        "colab_type": "code",
        "colab": {
          "base_uri": "https://localhost:8080/",
          "height": 34
        },
        "outputId": "4600fb6f-03ae-4247-acf9-6588c4dd9d83"
      },
      "source": [
        "clf = RandomForestClassifier()\n",
        "clf.fit(X_train, y_train)\n",
        "clf.score(X_test, y_test)"
      ],
      "execution_count": 71,
      "outputs": [
        {
          "output_type": "execute_result",
          "data": {
            "text/plain": [
              "0.7089"
            ]
          },
          "metadata": {
            "tags": []
          },
          "execution_count": 71
        }
      ]
    },
    {
      "cell_type": "code",
      "metadata": {
        "id": "R1hd8OeMzUnG",
        "colab_type": "code",
        "colab": {}
      },
      "source": [
        ""
      ],
      "execution_count": null,
      "outputs": []
    },
    {
      "cell_type": "code",
      "metadata": {
        "id": "RizgpFOw2YLF",
        "colab_type": "code",
        "colab": {}
      },
      "source": [
        ""
      ],
      "execution_count": null,
      "outputs": []
    },
    {
      "cell_type": "markdown",
      "metadata": {
        "id": "_M-6htgpbpf-",
        "colab_type": "text"
      },
      "source": [
        "# Random Forest forest for real train"
      ]
    },
    {
      "cell_type": "code",
      "metadata": {
        "id": "VNhbtkQJ7fWa",
        "colab_type": "code",
        "colab": {}
      },
      "source": [
        "train"
      ],
      "execution_count": null,
      "outputs": []
    },
    {
      "cell_type": "code",
      "metadata": {
        "id": "Jdo5WNDK7fcp",
        "colab_type": "code",
        "colab": {}
      },
      "source": [
        ""
      ],
      "execution_count": null,
      "outputs": []
    },
    {
      "cell_type": "code",
      "metadata": {
        "id": "CHYTpCCW7fgN",
        "colab_type": "code",
        "colab": {}
      },
      "source": [
        ""
      ],
      "execution_count": null,
      "outputs": []
    },
    {
      "cell_type": "code",
      "metadata": {
        "id": "XOtAoLIN7fA1",
        "colab_type": "code",
        "colab": {}
      },
      "source": [
        ""
      ],
      "execution_count": null,
      "outputs": []
    }
  ]
}